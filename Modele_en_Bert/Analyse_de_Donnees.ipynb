{
 "cells": [
  {
   "cell_type": "code",
   "execution_count": 1,
   "metadata": {},
   "outputs": [],
   "source": [
    "import pandas as pd\n",
    "import matplotlib.pyplot as plt\n",
    "import numpy as np\n",
    "import plotly.graph_objects as go\n",
    "from pymongo import MongoClient\n",
    "import importEtInsert_data\n",
    "import equilibrer_les_donnees\n",
    "import utility\n",
    "from utility import Liste_categories"
   ]
  },
  {
   "cell_type": "markdown",
   "metadata": {},
   "source": [
    "# Importation et analyse des données"
   ]
  },
  {
   "cell_type": "code",
   "execution_count": 2,
   "metadata": {},
   "outputs": [],
   "source": [
    "df=importEtInsert_data.Importation_dataFrame(\"Data_frame_en\",lien_bdd)\n"
   ]
  },
  {
   "cell_type": "code",
   "execution_count": 3,
   "metadata": {},
   "outputs": [
    {
     "name": "stdout",
     "output_type": "stream",
     "text": [
      "<class 'pandas.core.frame.DataFrame'>\n",
      "Int64Index: 1494247 entries, 0 to 1500223\n",
      "Data columns (total 54 columns):\n",
      " #   Column                                                 Non-Null Count    Dtype \n",
      "---  ------                                                 --------------    ----- \n",
      " 0   Texte                                                  1494247 non-null  object\n",
      " 1   Titre                                                  1494247 non-null  object\n",
      " 2   Description                                            1494247 non-null  object\n",
      " 3   building_works                                         1494247 non-null  int64 \n",
      " 4   studies_consulting_assistance                          1494247 non-null  int64 \n",
      " 5   transport_and_related_services                         1494247 non-null  int64 \n",
      " 6   financial_and_insurance_services                       1494247 non-null  int64 \n",
      " 7   sewerage                                               1494247 non-null  int64 \n",
      " 8   car_industry_products_and_transport_equipment          1494247 non-null  int64 \n",
      " 9   real_estate_missions_and_inspections                   1494247 non-null  int64 \n",
      " 10  it_services                                            1494247 non-null  int64 \n",
      " 11  cleaning_and_hygiene_services                          1494247 non-null  int64 \n",
      " 12  building_equipment                                     1494247 non-null  int64 \n",
      " 13  medical_precision_optical_and_watchmaking_instruments  1494247 non-null  int64 \n",
      " 14  research_and_development                               1494247 non-null  int64 \n",
      " 15  civil_engineering                                      1494247 non-null  int64 \n",
      " 16  green_spaces                                           1494247 non-null  int64 \n",
      " 17  printing_and_related_services                          1494247 non-null  int64 \n",
      " 18  street_development                                     1494247 non-null  int64 \n",
      " 19  office_and_it_equipment                                1494247 non-null  int64 \n",
      " 20  industrial_equipment_and_tools                         1494247 non-null  int64 \n",
      " 21  electrical_equipment                                   1494247 non-null  int64 \n",
      " 22  chemical_products                                      1494247 non-null  int64 \n",
      " 23  structural_works                                       1494247 non-null  int64 \n",
      " 24  recreational_cultural_and_sports_services              1494247 non-null  int64 \n",
      " 25  electricity_gas_and_heat                               1494247 non-null  int64 \n",
      " 26  food_beverages_and_related_products                    1494247 non-null  int64 \n",
      " 27  health_and_social_work_services                        1494247 non-null  int64 \n",
      " 28  education_and_training_services                        1494247 non-null  int64 \n",
      " 29  radio_television_and_communication_equipment           1494247 non-null  int64 \n",
      " 30  clothing_and_textile_industry                          1494247 non-null  int64 \n",
      " 31  roofing                                                1494247 non-null  int64 \n",
      " 32  communication_and_marketing_services                   1494247 non-null  int64 \n",
      " 33  energy_and_environment                                 1494247 non-null  int64 \n",
      " 34  waste_management                                       1494247 non-null  int64 \n",
      " 35  ores_materials_and_construction_materials              1494247 non-null  int64 \n",
      " 36  software_supply                                        1494247 non-null  int64 \n",
      " 37  defence_and_security                                   1494247 non-null  int64 \n",
      " 38  petroleum_products_fuels                               1494247 non-null  int64 \n",
      " 39  office_furniture_and_supplies                          1494247 non-null  int64 \n",
      " 40  it_equipment_and_consumables                           1494247 non-null  int64 \n",
      " 41  provision_of_meals                                     1494247 non-null  int64 \n",
      " 42  fire                                                   1494247 non-null  int64 \n",
      " 43  postal_and_telecommunications_services                 1494247 non-null  int64 \n",
      " 44  silvicultural_products                                 1494247 non-null  int64 \n",
      " 45  drinking_water                                         1494247 non-null  int64 \n",
      " 46  agriculture                                            1494247 non-null  int64 \n",
      " 47  wholesale_and_retail                                   1494247 non-null  int64 \n",
      " 48  water_related_works                                    1494247 non-null  int64 \n",
      " 49  mining_and_minerals                                    1494247 non-null  int64 \n",
      " 50  paper_and_cardboard                                    1494247 non-null  int64 \n",
      " 51  recreational_cultural_and_sports_equipment             1494247 non-null  int64 \n",
      " 52  rubber_or_plastic_products                             1494247 non-null  int64 \n",
      " 53  hydraulic_equipment                                    1494247 non-null  int64 \n",
      "dtypes: int64(51), object(3)\n",
      "memory usage: 627.0+ MB\n"
     ]
    }
   ],
   "source": [
    "df.info()"
   ]
  },
  {
   "cell_type": "code",
   "execution_count": 23,
   "metadata": {},
   "outputs": [
    {
     "data": {
      "text/html": [
       "<div>\n",
       "<style scoped>\n",
       "    .dataframe tbody tr th:only-of-type {\n",
       "        vertical-align: middle;\n",
       "    }\n",
       "\n",
       "    .dataframe tbody tr th {\n",
       "        vertical-align: top;\n",
       "    }\n",
       "\n",
       "    .dataframe thead th {\n",
       "        text-align: right;\n",
       "    }\n",
       "</style>\n",
       "<table border=\"1\" class=\"dataframe\">\n",
       "  <thead>\n",
       "    <tr style=\"text-align: right;\">\n",
       "      <th></th>\n",
       "      <th>Label</th>\n",
       "      <th>Nombre_de_textes</th>\n",
       "    </tr>\n",
       "  </thead>\n",
       "  <tbody>\n",
       "    <tr>\n",
       "      <th>3</th>\n",
       "      <td>building_works</td>\n",
       "      <td>62444</td>\n",
       "    </tr>\n",
       "    <tr>\n",
       "      <th>4</th>\n",
       "      <td>studies_consulting_assistance</td>\n",
       "      <td>177229</td>\n",
       "    </tr>\n",
       "    <tr>\n",
       "      <th>5</th>\n",
       "      <td>transport_and_related_services</td>\n",
       "      <td>36139</td>\n",
       "    </tr>\n",
       "    <tr>\n",
       "      <th>6</th>\n",
       "      <td>financial_and_insurance_services</td>\n",
       "      <td>10908</td>\n",
       "    </tr>\n",
       "    <tr>\n",
       "      <th>7</th>\n",
       "      <td>sewerage</td>\n",
       "      <td>8570</td>\n",
       "    </tr>\n",
       "    <tr>\n",
       "      <th>8</th>\n",
       "      <td>car_industry_products_and_transport_equipment</td>\n",
       "      <td>152221</td>\n",
       "    </tr>\n",
       "    <tr>\n",
       "      <th>9</th>\n",
       "      <td>real_estate_missions_and_inspections</td>\n",
       "      <td>18504</td>\n",
       "    </tr>\n",
       "    <tr>\n",
       "      <th>10</th>\n",
       "      <td>it_services</td>\n",
       "      <td>54865</td>\n",
       "    </tr>\n",
       "    <tr>\n",
       "      <th>11</th>\n",
       "      <td>cleaning_and_hygiene_services</td>\n",
       "      <td>13787</td>\n",
       "    </tr>\n",
       "    <tr>\n",
       "      <th>12</th>\n",
       "      <td>building_equipment</td>\n",
       "      <td>14955</td>\n",
       "    </tr>\n",
       "    <tr>\n",
       "      <th>13</th>\n",
       "      <td>medical_precision_optical_and_watchmaking_inst...</td>\n",
       "      <td>177745</td>\n",
       "    </tr>\n",
       "    <tr>\n",
       "      <th>14</th>\n",
       "      <td>research_and_development</td>\n",
       "      <td>22102</td>\n",
       "    </tr>\n",
       "    <tr>\n",
       "      <th>15</th>\n",
       "      <td>civil_engineering</td>\n",
       "      <td>115744</td>\n",
       "    </tr>\n",
       "    <tr>\n",
       "      <th>16</th>\n",
       "      <td>green_spaces</td>\n",
       "      <td>9200</td>\n",
       "    </tr>\n",
       "    <tr>\n",
       "      <th>17</th>\n",
       "      <td>printing_and_related_services</td>\n",
       "      <td>5451</td>\n",
       "    </tr>\n",
       "    <tr>\n",
       "      <th>18</th>\n",
       "      <td>street_development</td>\n",
       "      <td>10355</td>\n",
       "    </tr>\n",
       "    <tr>\n",
       "      <th>19</th>\n",
       "      <td>office_and_it_equipment</td>\n",
       "      <td>25637</td>\n",
       "    </tr>\n",
       "    <tr>\n",
       "      <th>20</th>\n",
       "      <td>industrial_equipment_and_tools</td>\n",
       "      <td>172402</td>\n",
       "    </tr>\n",
       "    <tr>\n",
       "      <th>21</th>\n",
       "      <td>electrical_equipment</td>\n",
       "      <td>125784</td>\n",
       "    </tr>\n",
       "    <tr>\n",
       "      <th>22</th>\n",
       "      <td>chemical_products</td>\n",
       "      <td>41518</td>\n",
       "    </tr>\n",
       "    <tr>\n",
       "      <th>23</th>\n",
       "      <td>structural_works</td>\n",
       "      <td>24501</td>\n",
       "    </tr>\n",
       "    <tr>\n",
       "      <th>24</th>\n",
       "      <td>recreational_cultural_and_sports_services</td>\n",
       "      <td>9133</td>\n",
       "    </tr>\n",
       "    <tr>\n",
       "      <th>25</th>\n",
       "      <td>electricity_gas_and_heat</td>\n",
       "      <td>21724</td>\n",
       "    </tr>\n",
       "    <tr>\n",
       "      <th>26</th>\n",
       "      <td>food_beverages_and_related_products</td>\n",
       "      <td>38967</td>\n",
       "    </tr>\n",
       "    <tr>\n",
       "      <th>27</th>\n",
       "      <td>health_and_social_work_services</td>\n",
       "      <td>20010</td>\n",
       "    </tr>\n",
       "    <tr>\n",
       "      <th>28</th>\n",
       "      <td>education_and_training_services</td>\n",
       "      <td>15940</td>\n",
       "    </tr>\n",
       "    <tr>\n",
       "      <th>29</th>\n",
       "      <td>radio_television_and_communication_equipment</td>\n",
       "      <td>36853</td>\n",
       "    </tr>\n",
       "    <tr>\n",
       "      <th>30</th>\n",
       "      <td>clothing_and_textile_industry</td>\n",
       "      <td>20870</td>\n",
       "    </tr>\n",
       "    <tr>\n",
       "      <th>31</th>\n",
       "      <td>roofing</td>\n",
       "      <td>6441</td>\n",
       "    </tr>\n",
       "    <tr>\n",
       "      <th>32</th>\n",
       "      <td>communication_and_marketing_services</td>\n",
       "      <td>17112</td>\n",
       "    </tr>\n",
       "    <tr>\n",
       "      <th>33</th>\n",
       "      <td>energy_and_environment</td>\n",
       "      <td>11464</td>\n",
       "    </tr>\n",
       "    <tr>\n",
       "      <th>34</th>\n",
       "      <td>waste_management</td>\n",
       "      <td>16605</td>\n",
       "    </tr>\n",
       "    <tr>\n",
       "      <th>35</th>\n",
       "      <td>ores_materials_and_construction_materials</td>\n",
       "      <td>56299</td>\n",
       "    </tr>\n",
       "    <tr>\n",
       "      <th>36</th>\n",
       "      <td>software_supply</td>\n",
       "      <td>16410</td>\n",
       "    </tr>\n",
       "    <tr>\n",
       "      <th>37</th>\n",
       "      <td>defence_and_security</td>\n",
       "      <td>11687</td>\n",
       "    </tr>\n",
       "    <tr>\n",
       "      <th>38</th>\n",
       "      <td>petroleum_products_fuels</td>\n",
       "      <td>7249</td>\n",
       "    </tr>\n",
       "    <tr>\n",
       "      <th>39</th>\n",
       "      <td>office_furniture_and_supplies</td>\n",
       "      <td>25464</td>\n",
       "    </tr>\n",
       "    <tr>\n",
       "      <th>40</th>\n",
       "      <td>it_equipment_and_consumables</td>\n",
       "      <td>44311</td>\n",
       "    </tr>\n",
       "    <tr>\n",
       "      <th>41</th>\n",
       "      <td>provision_of_meals</td>\n",
       "      <td>3323</td>\n",
       "    </tr>\n",
       "    <tr>\n",
       "      <th>42</th>\n",
       "      <td>fire</td>\n",
       "      <td>2249</td>\n",
       "    </tr>\n",
       "    <tr>\n",
       "      <th>43</th>\n",
       "      <td>postal_and_telecommunications_services</td>\n",
       "      <td>10210</td>\n",
       "    </tr>\n",
       "    <tr>\n",
       "      <th>44</th>\n",
       "      <td>silvicultural_products</td>\n",
       "      <td>7321</td>\n",
       "    </tr>\n",
       "    <tr>\n",
       "      <th>45</th>\n",
       "      <td>drinking_water</td>\n",
       "      <td>232</td>\n",
       "    </tr>\n",
       "    <tr>\n",
       "      <th>46</th>\n",
       "      <td>agriculture</td>\n",
       "      <td>37918</td>\n",
       "    </tr>\n",
       "    <tr>\n",
       "      <th>47</th>\n",
       "      <td>wholesale_and_retail</td>\n",
       "      <td>18916</td>\n",
       "    </tr>\n",
       "    <tr>\n",
       "      <th>48</th>\n",
       "      <td>water_related_works</td>\n",
       "      <td>4884</td>\n",
       "    </tr>\n",
       "    <tr>\n",
       "      <th>49</th>\n",
       "      <td>mining_and_minerals</td>\n",
       "      <td>29562</td>\n",
       "    </tr>\n",
       "    <tr>\n",
       "      <th>50</th>\n",
       "      <td>paper_and_cardboard</td>\n",
       "      <td>922</td>\n",
       "    </tr>\n",
       "    <tr>\n",
       "      <th>51</th>\n",
       "      <td>recreational_cultural_and_sports_equipment</td>\n",
       "      <td>16109</td>\n",
       "    </tr>\n",
       "    <tr>\n",
       "      <th>52</th>\n",
       "      <td>rubber_or_plastic_products</td>\n",
       "      <td>8584</td>\n",
       "    </tr>\n",
       "    <tr>\n",
       "      <th>53</th>\n",
       "      <td>hydraulic_equipment</td>\n",
       "      <td>114</td>\n",
       "    </tr>\n",
       "  </tbody>\n",
       "</table>\n",
       "</div>"
      ],
      "text/plain": [
       "                                                Label Nombre_de_textes\n",
       "3                                      building_works            62444\n",
       "4                       studies_consulting_assistance           177229\n",
       "5                      transport_and_related_services            36139\n",
       "6                    financial_and_insurance_services            10908\n",
       "7                                            sewerage             8570\n",
       "8       car_industry_products_and_transport_equipment           152221\n",
       "9                real_estate_missions_and_inspections            18504\n",
       "10                                        it_services            54865\n",
       "11                      cleaning_and_hygiene_services            13787\n",
       "12                                 building_equipment            14955\n",
       "13  medical_precision_optical_and_watchmaking_inst...           177745\n",
       "14                           research_and_development            22102\n",
       "15                                  civil_engineering           115744\n",
       "16                                       green_spaces             9200\n",
       "17                      printing_and_related_services             5451\n",
       "18                                 street_development            10355\n",
       "19                            office_and_it_equipment            25637\n",
       "20                     industrial_equipment_and_tools           172402\n",
       "21                               electrical_equipment           125784\n",
       "22                                  chemical_products            41518\n",
       "23                                   structural_works            24501\n",
       "24          recreational_cultural_and_sports_services             9133\n",
       "25                           electricity_gas_and_heat            21724\n",
       "26                food_beverages_and_related_products            38967\n",
       "27                    health_and_social_work_services            20010\n",
       "28                    education_and_training_services            15940\n",
       "29       radio_television_and_communication_equipment            36853\n",
       "30                      clothing_and_textile_industry            20870\n",
       "31                                            roofing             6441\n",
       "32               communication_and_marketing_services            17112\n",
       "33                             energy_and_environment            11464\n",
       "34                                   waste_management            16605\n",
       "35          ores_materials_and_construction_materials            56299\n",
       "36                                    software_supply            16410\n",
       "37                               defence_and_security            11687\n",
       "38                           petroleum_products_fuels             7249\n",
       "39                      office_furniture_and_supplies            25464\n",
       "40                       it_equipment_and_consumables            44311\n",
       "41                                 provision_of_meals             3323\n",
       "42                                               fire             2249\n",
       "43             postal_and_telecommunications_services            10210\n",
       "44                             silvicultural_products             7321\n",
       "45                                     drinking_water              232\n",
       "46                                        agriculture            37918\n",
       "47                               wholesale_and_retail            18916\n",
       "48                                water_related_works             4884\n",
       "49                                mining_and_minerals            29562\n",
       "50                                paper_and_cardboard              922\n",
       "51         recreational_cultural_and_sports_equipment            16109\n",
       "52                         rubber_or_plastic_products             8584\n",
       "53                                hydraulic_equipment              114"
      ]
     },
     "execution_count": 23,
     "metadata": {},
     "output_type": "execute_result"
    }
   ],
   "source": [
    "nb_labele_categorie=utility.nb_exemple_categorie(df)\n",
    "nb_labele=nb_labele_categorie[3:]\n",
    "nb_labele"
   ]
  },
  {
   "cell_type": "code",
   "execution_count": 4,
   "metadata": {},
   "outputs": [],
   "source": [
    "\n",
    "def plot_distribution(nb_labele,legende):\n",
    "    \n",
    "    fig = go.Figure()\n",
    "    fig.add_trace(go.Bar(\n",
    "        x=nb_labele[\"Label\"],\n",
    "        y=nb_labele[\"Nombre_de_textes\"],\n",
    "        marker_color='rgb(55, 83, 109)'\n",
    "    ))\n",
    "\n",
    "    fig.update_layout(\n",
    "        title=legende,\n",
    "        xaxis_title=\"Catégories\",\n",
    "        yaxis_title=\"Nombre de documents\",\n",
    "        xaxis_tickangle=-25,\n",
    "        font=dict(\n",
    "            family=\"Arial, sans-serif\",\n",
    "            size=13,\n",
    "            color=\"RebeccaPurple\"\n",
    "        )\n",
    "    )\n",
    "\n",
    "    fig.show()\n"
   ]
  },
  {
   "cell_type": "code",
   "execution_count": 25,
   "metadata": {},
   "outputs": [
    {
     "data": {
      "application/vnd.plotly.v1+json": {
       "config": {
        "plotlyServerURL": "https://plot.ly"
       },
       "data": [
        {
         "marker": {
          "color": "rgb(55, 83, 109)"
         },
         "type": "bar",
         "x": [
          "Texte",
          "Titre",
          "Description",
          "building_works",
          "studies_consulting_assistance",
          "transport_and_related_services",
          "financial_and_insurance_services",
          "sewerage",
          "car_industry_products_and_transport_equipment",
          "real_estate_missions_and_inspections",
          "it_services",
          "cleaning_and_hygiene_services",
          "building_equipment",
          "medical_precision_optical_and_watchmaking_instruments",
          "research_and_development",
          "civil_engineering",
          "green_spaces",
          "printing_and_related_services",
          "street_development",
          "office_and_it_equipment",
          "industrial_equipment_and_tools",
          "electrical_equipment",
          "chemical_products",
          "structural_works",
          "recreational_cultural_and_sports_services",
          "electricity_gas_and_heat",
          "food_beverages_and_related_products",
          "health_and_social_work_services",
          "education_and_training_services",
          "radio_television_and_communication_equipment",
          "clothing_and_textile_industry",
          "roofing",
          "communication_and_marketing_services",
          "energy_and_environment",
          "waste_management",
          "ores_materials_and_construction_materials",
          "software_supply",
          "defence_and_security",
          "petroleum_products_fuels",
          "office_furniture_and_supplies",
          "it_equipment_and_consumables",
          "provision_of_meals",
          "fire",
          "postal_and_telecommunications_services",
          "silvicultural_products",
          "drinking_water",
          "agriculture",
          "wholesale_and_retail",
          "water_related_works",
          "mining_and_minerals",
          "paper_and_cardboard",
          "recreational_cultural_and_sports_equipment",
          "rubber_or_plastic_products",
          "hydraulic_equipment"
         ],
         "y": [
          0,
          0,
          0,
          62444,
          177229,
          36139,
          10908,
          8570,
          152221,
          18504,
          54865,
          13787,
          14955,
          177745,
          22102,
          115744,
          9200,
          5451,
          10355,
          25637,
          172402,
          125784,
          41518,
          24501,
          9133,
          21724,
          38967,
          20010,
          15940,
          36853,
          20870,
          6441,
          17112,
          11464,
          16605,
          56299,
          16410,
          11687,
          7249,
          25464,
          44311,
          3323,
          2249,
          10210,
          7321,
          232,
          37918,
          18916,
          4884,
          29562,
          922,
          16109,
          8584,
          114
         ]
        }
       ],
       "layout": {
        "font": {
         "color": "RebeccaPurple",
         "family": "Arial, sans-serif",
         "size": 13
        },
        "template": {
         "data": {
          "bar": [
           {
            "error_x": {
             "color": "#2a3f5f"
            },
            "error_y": {
             "color": "#2a3f5f"
            },
            "marker": {
             "line": {
              "color": "#E5ECF6",
              "width": 0.5
             },
             "pattern": {
              "fillmode": "overlay",
              "size": 10,
              "solidity": 0.2
             }
            },
            "type": "bar"
           }
          ],
          "barpolar": [
           {
            "marker": {
             "line": {
              "color": "#E5ECF6",
              "width": 0.5
             },
             "pattern": {
              "fillmode": "overlay",
              "size": 10,
              "solidity": 0.2
             }
            },
            "type": "barpolar"
           }
          ],
          "carpet": [
           {
            "aaxis": {
             "endlinecolor": "#2a3f5f",
             "gridcolor": "white",
             "linecolor": "white",
             "minorgridcolor": "white",
             "startlinecolor": "#2a3f5f"
            },
            "baxis": {
             "endlinecolor": "#2a3f5f",
             "gridcolor": "white",
             "linecolor": "white",
             "minorgridcolor": "white",
             "startlinecolor": "#2a3f5f"
            },
            "type": "carpet"
           }
          ],
          "choropleth": [
           {
            "colorbar": {
             "outlinewidth": 0,
             "ticks": ""
            },
            "type": "choropleth"
           }
          ],
          "contour": [
           {
            "colorbar": {
             "outlinewidth": 0,
             "ticks": ""
            },
            "colorscale": [
             [
              0,
              "#0d0887"
             ],
             [
              0.1111111111111111,
              "#46039f"
             ],
             [
              0.2222222222222222,
              "#7201a8"
             ],
             [
              0.3333333333333333,
              "#9c179e"
             ],
             [
              0.4444444444444444,
              "#bd3786"
             ],
             [
              0.5555555555555556,
              "#d8576b"
             ],
             [
              0.6666666666666666,
              "#ed7953"
             ],
             [
              0.7777777777777778,
              "#fb9f3a"
             ],
             [
              0.8888888888888888,
              "#fdca26"
             ],
             [
              1,
              "#f0f921"
             ]
            ],
            "type": "contour"
           }
          ],
          "contourcarpet": [
           {
            "colorbar": {
             "outlinewidth": 0,
             "ticks": ""
            },
            "type": "contourcarpet"
           }
          ],
          "heatmap": [
           {
            "colorbar": {
             "outlinewidth": 0,
             "ticks": ""
            },
            "colorscale": [
             [
              0,
              "#0d0887"
             ],
             [
              0.1111111111111111,
              "#46039f"
             ],
             [
              0.2222222222222222,
              "#7201a8"
             ],
             [
              0.3333333333333333,
              "#9c179e"
             ],
             [
              0.4444444444444444,
              "#bd3786"
             ],
             [
              0.5555555555555556,
              "#d8576b"
             ],
             [
              0.6666666666666666,
              "#ed7953"
             ],
             [
              0.7777777777777778,
              "#fb9f3a"
             ],
             [
              0.8888888888888888,
              "#fdca26"
             ],
             [
              1,
              "#f0f921"
             ]
            ],
            "type": "heatmap"
           }
          ],
          "heatmapgl": [
           {
            "colorbar": {
             "outlinewidth": 0,
             "ticks": ""
            },
            "colorscale": [
             [
              0,
              "#0d0887"
             ],
             [
              0.1111111111111111,
              "#46039f"
             ],
             [
              0.2222222222222222,
              "#7201a8"
             ],
             [
              0.3333333333333333,
              "#9c179e"
             ],
             [
              0.4444444444444444,
              "#bd3786"
             ],
             [
              0.5555555555555556,
              "#d8576b"
             ],
             [
              0.6666666666666666,
              "#ed7953"
             ],
             [
              0.7777777777777778,
              "#fb9f3a"
             ],
             [
              0.8888888888888888,
              "#fdca26"
             ],
             [
              1,
              "#f0f921"
             ]
            ],
            "type": "heatmapgl"
           }
          ],
          "histogram": [
           {
            "marker": {
             "pattern": {
              "fillmode": "overlay",
              "size": 10,
              "solidity": 0.2
             }
            },
            "type": "histogram"
           }
          ],
          "histogram2d": [
           {
            "colorbar": {
             "outlinewidth": 0,
             "ticks": ""
            },
            "colorscale": [
             [
              0,
              "#0d0887"
             ],
             [
              0.1111111111111111,
              "#46039f"
             ],
             [
              0.2222222222222222,
              "#7201a8"
             ],
             [
              0.3333333333333333,
              "#9c179e"
             ],
             [
              0.4444444444444444,
              "#bd3786"
             ],
             [
              0.5555555555555556,
              "#d8576b"
             ],
             [
              0.6666666666666666,
              "#ed7953"
             ],
             [
              0.7777777777777778,
              "#fb9f3a"
             ],
             [
              0.8888888888888888,
              "#fdca26"
             ],
             [
              1,
              "#f0f921"
             ]
            ],
            "type": "histogram2d"
           }
          ],
          "histogram2dcontour": [
           {
            "colorbar": {
             "outlinewidth": 0,
             "ticks": ""
            },
            "colorscale": [
             [
              0,
              "#0d0887"
             ],
             [
              0.1111111111111111,
              "#46039f"
             ],
             [
              0.2222222222222222,
              "#7201a8"
             ],
             [
              0.3333333333333333,
              "#9c179e"
             ],
             [
              0.4444444444444444,
              "#bd3786"
             ],
             [
              0.5555555555555556,
              "#d8576b"
             ],
             [
              0.6666666666666666,
              "#ed7953"
             ],
             [
              0.7777777777777778,
              "#fb9f3a"
             ],
             [
              0.8888888888888888,
              "#fdca26"
             ],
             [
              1,
              "#f0f921"
             ]
            ],
            "type": "histogram2dcontour"
           }
          ],
          "mesh3d": [
           {
            "colorbar": {
             "outlinewidth": 0,
             "ticks": ""
            },
            "type": "mesh3d"
           }
          ],
          "parcoords": [
           {
            "line": {
             "colorbar": {
              "outlinewidth": 0,
              "ticks": ""
             }
            },
            "type": "parcoords"
           }
          ],
          "pie": [
           {
            "automargin": true,
            "type": "pie"
           }
          ],
          "scatter": [
           {
            "marker": {
             "colorbar": {
              "outlinewidth": 0,
              "ticks": ""
             }
            },
            "type": "scatter"
           }
          ],
          "scatter3d": [
           {
            "line": {
             "colorbar": {
              "outlinewidth": 0,
              "ticks": ""
             }
            },
            "marker": {
             "colorbar": {
              "outlinewidth": 0,
              "ticks": ""
             }
            },
            "type": "scatter3d"
           }
          ],
          "scattercarpet": [
           {
            "marker": {
             "colorbar": {
              "outlinewidth": 0,
              "ticks": ""
             }
            },
            "type": "scattercarpet"
           }
          ],
          "scattergeo": [
           {
            "marker": {
             "colorbar": {
              "outlinewidth": 0,
              "ticks": ""
             }
            },
            "type": "scattergeo"
           }
          ],
          "scattergl": [
           {
            "marker": {
             "colorbar": {
              "outlinewidth": 0,
              "ticks": ""
             }
            },
            "type": "scattergl"
           }
          ],
          "scattermapbox": [
           {
            "marker": {
             "colorbar": {
              "outlinewidth": 0,
              "ticks": ""
             }
            },
            "type": "scattermapbox"
           }
          ],
          "scatterpolar": [
           {
            "marker": {
             "colorbar": {
              "outlinewidth": 0,
              "ticks": ""
             }
            },
            "type": "scatterpolar"
           }
          ],
          "scatterpolargl": [
           {
            "marker": {
             "colorbar": {
              "outlinewidth": 0,
              "ticks": ""
             }
            },
            "type": "scatterpolargl"
           }
          ],
          "scatterternary": [
           {
            "marker": {
             "colorbar": {
              "outlinewidth": 0,
              "ticks": ""
             }
            },
            "type": "scatterternary"
           }
          ],
          "surface": [
           {
            "colorbar": {
             "outlinewidth": 0,
             "ticks": ""
            },
            "colorscale": [
             [
              0,
              "#0d0887"
             ],
             [
              0.1111111111111111,
              "#46039f"
             ],
             [
              0.2222222222222222,
              "#7201a8"
             ],
             [
              0.3333333333333333,
              "#9c179e"
             ],
             [
              0.4444444444444444,
              "#bd3786"
             ],
             [
              0.5555555555555556,
              "#d8576b"
             ],
             [
              0.6666666666666666,
              "#ed7953"
             ],
             [
              0.7777777777777778,
              "#fb9f3a"
             ],
             [
              0.8888888888888888,
              "#fdca26"
             ],
             [
              1,
              "#f0f921"
             ]
            ],
            "type": "surface"
           }
          ],
          "table": [
           {
            "cells": {
             "fill": {
              "color": "#EBF0F8"
             },
             "line": {
              "color": "white"
             }
            },
            "header": {
             "fill": {
              "color": "#C8D4E3"
             },
             "line": {
              "color": "white"
             }
            },
            "type": "table"
           }
          ]
         },
         "layout": {
          "annotationdefaults": {
           "arrowcolor": "#2a3f5f",
           "arrowhead": 0,
           "arrowwidth": 1
          },
          "autotypenumbers": "strict",
          "coloraxis": {
           "colorbar": {
            "outlinewidth": 0,
            "ticks": ""
           }
          },
          "colorscale": {
           "diverging": [
            [
             0,
             "#8e0152"
            ],
            [
             0.1,
             "#c51b7d"
            ],
            [
             0.2,
             "#de77ae"
            ],
            [
             0.3,
             "#f1b6da"
            ],
            [
             0.4,
             "#fde0ef"
            ],
            [
             0.5,
             "#f7f7f7"
            ],
            [
             0.6,
             "#e6f5d0"
            ],
            [
             0.7,
             "#b8e186"
            ],
            [
             0.8,
             "#7fbc41"
            ],
            [
             0.9,
             "#4d9221"
            ],
            [
             1,
             "#276419"
            ]
           ],
           "sequential": [
            [
             0,
             "#0d0887"
            ],
            [
             0.1111111111111111,
             "#46039f"
            ],
            [
             0.2222222222222222,
             "#7201a8"
            ],
            [
             0.3333333333333333,
             "#9c179e"
            ],
            [
             0.4444444444444444,
             "#bd3786"
            ],
            [
             0.5555555555555556,
             "#d8576b"
            ],
            [
             0.6666666666666666,
             "#ed7953"
            ],
            [
             0.7777777777777778,
             "#fb9f3a"
            ],
            [
             0.8888888888888888,
             "#fdca26"
            ],
            [
             1,
             "#f0f921"
            ]
           ],
           "sequentialminus": [
            [
             0,
             "#0d0887"
            ],
            [
             0.1111111111111111,
             "#46039f"
            ],
            [
             0.2222222222222222,
             "#7201a8"
            ],
            [
             0.3333333333333333,
             "#9c179e"
            ],
            [
             0.4444444444444444,
             "#bd3786"
            ],
            [
             0.5555555555555556,
             "#d8576b"
            ],
            [
             0.6666666666666666,
             "#ed7953"
            ],
            [
             0.7777777777777778,
             "#fb9f3a"
            ],
            [
             0.8888888888888888,
             "#fdca26"
            ],
            [
             1,
             "#f0f921"
            ]
           ]
          },
          "colorway": [
           "#636efa",
           "#EF553B",
           "#00cc96",
           "#ab63fa",
           "#FFA15A",
           "#19d3f3",
           "#FF6692",
           "#B6E880",
           "#FF97FF",
           "#FECB52"
          ],
          "font": {
           "color": "#2a3f5f"
          },
          "geo": {
           "bgcolor": "white",
           "lakecolor": "white",
           "landcolor": "#E5ECF6",
           "showlakes": true,
           "showland": true,
           "subunitcolor": "white"
          },
          "hoverlabel": {
           "align": "left"
          },
          "hovermode": "closest",
          "mapbox": {
           "style": "light"
          },
          "paper_bgcolor": "white",
          "plot_bgcolor": "#E5ECF6",
          "polar": {
           "angularaxis": {
            "gridcolor": "white",
            "linecolor": "white",
            "ticks": ""
           },
           "bgcolor": "#E5ECF6",
           "radialaxis": {
            "gridcolor": "white",
            "linecolor": "white",
            "ticks": ""
           }
          },
          "scene": {
           "xaxis": {
            "backgroundcolor": "#E5ECF6",
            "gridcolor": "white",
            "gridwidth": 2,
            "linecolor": "white",
            "showbackground": true,
            "ticks": "",
            "zerolinecolor": "white"
           },
           "yaxis": {
            "backgroundcolor": "#E5ECF6",
            "gridcolor": "white",
            "gridwidth": 2,
            "linecolor": "white",
            "showbackground": true,
            "ticks": "",
            "zerolinecolor": "white"
           },
           "zaxis": {
            "backgroundcolor": "#E5ECF6",
            "gridcolor": "white",
            "gridwidth": 2,
            "linecolor": "white",
            "showbackground": true,
            "ticks": "",
            "zerolinecolor": "white"
           }
          },
          "shapedefaults": {
           "line": {
            "color": "#2a3f5f"
           }
          },
          "ternary": {
           "aaxis": {
            "gridcolor": "white",
            "linecolor": "white",
            "ticks": ""
           },
           "baxis": {
            "gridcolor": "white",
            "linecolor": "white",
            "ticks": ""
           },
           "bgcolor": "#E5ECF6",
           "caxis": {
            "gridcolor": "white",
            "linecolor": "white",
            "ticks": ""
           }
          },
          "title": {
           "x": 0.05
          },
          "xaxis": {
           "automargin": true,
           "gridcolor": "white",
           "linecolor": "white",
           "ticks": "",
           "title": {
            "standoff": 15
           },
           "zerolinecolor": "white",
           "zerolinewidth": 2
          },
          "yaxis": {
           "automargin": true,
           "gridcolor": "white",
           "linecolor": "white",
           "ticks": "",
           "title": {
            "standoff": 15
           },
           "zerolinecolor": "white",
           "zerolinewidth": 2
          }
         }
        },
        "title": {
         "text": "Distribution du nombre de documents par catégories dans le dataset anglais"
        },
        "xaxis": {
         "tickangle": -25,
         "title": {
          "text": "Catégories"
         }
        },
        "yaxis": {
         "title": {
          "text": "Nombre de documents"
         }
        }
       }
      }
     },
     "metadata": {},
     "output_type": "display_data"
    }
   ],
   "source": [
    "plot_distribution(utility.nb_exemple_categorie(df),\"Distribution du nombre de documents par catégories dans le dataset anglais\")"
   ]
  },
  {
   "cell_type": "code",
   "execution_count": 156,
   "metadata": {},
   "outputs": [
    {
     "data": {
      "image/png": "[encoded data removed]",
      "text/plain": [
       "<Figure size 432x288 with 1 Axes>"
      ]
     },
     "metadata": {
      "needs_background": "light"
     },
     "output_type": "display_data"
    }
   ],
   "source": [
    "import matplotlib.pyplot as plt\n",
    "\n",
    "\n",
    "nombre_categories_par_document = df[df.columns[3:]].sum(axis=1)\n",
    "\n",
    "\n",
    "plt.hist(nombre_categories_par_document, align='left', rwidth=0.8)\n",
    "plt.xlabel('Nombre de catégories par document')\n",
    "plt.ylabel('Fréquence')\n",
    "plt.title('Fréquence du nombre de catégories par document')\n",
    "plt.grid(axis='y', alpha=0.75)\n",
    "plt.show()\n"
   ]
  },
  {
   "cell_type": "code",
   "execution_count": 5,
   "metadata": {},
   "outputs": [
    {
     "data": {
      "text/plain": [
       "1     1269724\n",
       "2      172690\n",
       "3       39233\n",
       "4        7212\n",
       "5        2527\n",
       "6        1233\n",
       "7         645\n",
       "8         334\n",
       "9         204\n",
       "10        100\n",
       "11         98\n",
       "13         69\n",
       "15         35\n",
       "16         32\n",
       "12         27\n",
       "14         19\n",
       "18         13\n",
       "17         11\n",
       "29         11\n",
       "20          7\n",
       "45          6\n",
       "19          5\n",
       "44          3\n",
       "25          3\n",
       "23          2\n",
       "26          1\n",
       "31          1\n",
       "38          1\n",
       "42          1\n",
       "dtype: int64"
      ]
     },
     "execution_count": 5,
     "metadata": {},
     "output_type": "execute_result"
    }
   ],
   "source": [
    "df[df.columns[3:]].sum(axis=1).value_counts()# 1269937  1269724"
   ]
  },
  {
   "cell_type": "markdown",
   "metadata": {},
   "source": [
    "# Amélioration de léquilibre des données  d'entrainements"
   ]
  },
  {
   "cell_type": "code",
   "execution_count": 6,
   "metadata": {},
   "outputs": [],
   "source": [
    "# Remplace la valeur de description par la valeur de Texte si description est vide \n",
    "df.loc[df['Description'] == \"\", 'Description'] = df['Texte']\n"
   ]
  },
  {
   "cell_type": "code",
   "execution_count": 7,
   "metadata": {},
   "outputs": [
    {
     "name": "stderr",
     "output_type": "stream",
     "text": [
      "/usr/lib/python3/dist-packages/scipy/__init__.py:146: UserWarning: A NumPy version >=1.17.3 and <1.25.0 is required for this version of SciPy (detected version 1.26.4\n",
      "  warnings.warn(f\"A NumPy version >={np_minversion} and <{np_maxversion}\"\n"
     ]
    },
    {
     "name": "stdout",
     "output_type": "stream",
     "text": [
      "Train: (1045972, 54), Test: (224137, 54), Valid: (224138, 54)\n"
     ]
    }
   ],
   "source": [
    "\n",
    "#Division des données en données d'entrainement , test et validation \n",
    "#Train: (1050156, 54), Test: (225034, 54), Valid: (225034, 54)\n",
    "\n",
    "from sklearn.model_selection import train_test_split\n",
    "df_train, df_test = train_test_split(df, random_state=77, test_size=0.30, shuffle=True)\n",
    "df_test, df_valid = train_test_split(df_test, random_state=88, test_size=0.50, shuffle=True)\n",
    "print(f\"Train: {df_train.shape}, Test: {df_test.shape}, Valid: {df_valid.shape}\")\n"
   ]
  },
  {
   "cell_type": "code",
   "execution_count": 29,
   "metadata": {},
   "outputs": [
    {
     "data": {
      "application/vnd.plotly.v1+json": {
       "config": {
        "plotlyServerURL": "https://plot.ly"
       },
       "data": [
        {
         "marker": {
          "color": "rgb(55, 83, 109)"
         },
         "type": "bar",
         "x": [
          "Texte",
          "Titre",
          "Description",
          "building_works",
          "studies_consulting_assistance",
          "transport_and_related_services",
          "financial_and_insurance_services",
          "sewerage",
          "car_industry_products_and_transport_equipment",
          "real_estate_missions_and_inspections",
          "it_services",
          "cleaning_and_hygiene_services",
          "building_equipment",
          "medical_precision_optical_and_watchmaking_instruments",
          "research_and_development",
          "civil_engineering",
          "green_spaces",
          "printing_and_related_services",
          "street_development",
          "office_and_it_equipment",
          "industrial_equipment_and_tools",
          "electrical_equipment",
          "chemical_products",
          "structural_works",
          "recreational_cultural_and_sports_services",
          "electricity_gas_and_heat",
          "food_beverages_and_related_products",
          "health_and_social_work_services",
          "education_and_training_services",
          "radio_television_and_communication_equipment",
          "clothing_and_textile_industry",
          "roofing",
          "communication_and_marketing_services",
          "energy_and_environment",
          "waste_management",
          "ores_materials_and_construction_materials",
          "software_supply",
          "defence_and_security",
          "petroleum_products_fuels",
          "office_furniture_and_supplies",
          "it_equipment_and_consumables",
          "provision_of_meals",
          "fire",
          "postal_and_telecommunications_services",
          "silvicultural_products",
          "drinking_water",
          "agriculture",
          "wholesale_and_retail",
          "water_related_works",
          "mining_and_minerals",
          "paper_and_cardboard",
          "recreational_cultural_and_sports_equipment",
          "rubber_or_plastic_products",
          "hydraulic_equipment"
         ],
         "y": [
          0,
          0,
          0,
          43565,
          124048,
          25220,
          7699,
          6002,
          106634,
          12946,
          38311,
          9717,
          10444,
          124164,
          15505,
          80980,
          6422,
          3793,
          7208,
          17942,
          120879,
          88108,
          29155,
          17055,
          6327,
          15283,
          27249,
          14103,
          11178,
          25879,
          14471,
          4570,
          12030,
          8109,
          11653,
          39398,
          11469,
          8293,
          5099,
          17839,
          30956,
          2320,
          1551,
          7190,
          5227,
          161,
          26397,
          13286,
          3423,
          20714,
          672,
          11299,
          5983,
          83
         ]
        }
       ],
       "layout": {
        "font": {
         "color": "RebeccaPurple",
         "family": "Arial, sans-serif",
         "size": 13
        },
        "template": {
         "data": {
          "bar": [
           {
            "error_x": {
             "color": "#2a3f5f"
            },
            "error_y": {
             "color": "#2a3f5f"
            },
            "marker": {
             "line": {
              "color": "#E5ECF6",
              "width": 0.5
             },
             "pattern": {
              "fillmode": "overlay",
              "size": 10,
              "solidity": 0.2
             }
            },
            "type": "bar"
           }
          ],
          "barpolar": [
           {
            "marker": {
             "line": {
              "color": "#E5ECF6",
              "width": 0.5
             },
             "pattern": {
              "fillmode": "overlay",
              "size": 10,
              "solidity": 0.2
             }
            },
            "type": "barpolar"
           }
          ],
          "carpet": [
           {
            "aaxis": {
             "endlinecolor": "#2a3f5f",
             "gridcolor": "white",
             "linecolor": "white",
             "minorgridcolor": "white",
             "startlinecolor": "#2a3f5f"
            },
            "baxis": {
             "endlinecolor": "#2a3f5f",
             "gridcolor": "white",
             "linecolor": "white",
             "minorgridcolor": "white",
             "startlinecolor": "#2a3f5f"
            },
            "type": "carpet"
           }
          ],
          "choropleth": [
           {
            "colorbar": {
             "outlinewidth": 0,
             "ticks": ""
            },
            "type": "choropleth"
           }
          ],
          "contour": [
           {
            "colorbar": {
             "outlinewidth": 0,
             "ticks": ""
            },
            "colorscale": [
             [
              0,
              "#0d0887"
             ],
             [
              0.1111111111111111,
              "#46039f"
             ],
             [
              0.2222222222222222,
              "#7201a8"
             ],
             [
              0.3333333333333333,
              "#9c179e"
             ],
             [
              0.4444444444444444,
              "#bd3786"
             ],
             [
              0.5555555555555556,
              "#d8576b"
             ],
             [
              0.6666666666666666,
              "#ed7953"
             ],
             [
              0.7777777777777778,
              "#fb9f3a"
             ],
             [
              0.8888888888888888,
              "#fdca26"
             ],
             [
              1,
              "#f0f921"
             ]
            ],
            "type": "contour"
           }
          ],
          "contourcarpet": [
           {
            "colorbar": {
             "outlinewidth": 0,
             "ticks": ""
            },
            "type": "contourcarpet"
           }
          ],
          "heatmap": [
           {
            "colorbar": {
             "outlinewidth": 0,
             "ticks": ""
            },
            "colorscale": [
             [
              0,
              "#0d0887"
             ],
             [
              0.1111111111111111,
              "#46039f"
             ],
             [
              0.2222222222222222,
              "#7201a8"
             ],
             [
              0.3333333333333333,
              "#9c179e"
             ],
             [
              0.4444444444444444,
              "#bd3786"
             ],
             [
              0.5555555555555556,
              "#d8576b"
             ],
             [
              0.6666666666666666,
              "#ed7953"
             ],
             [
              0.7777777777777778,
              "#fb9f3a"
             ],
             [
              0.8888888888888888,
              "#fdca26"
             ],
             [
              1,
              "#f0f921"
             ]
            ],
            "type": "heatmap"
           }
          ],
          "heatmapgl": [
           {
            "colorbar": {
             "outlinewidth": 0,
             "ticks": ""
            },
            "colorscale": [
             [
              0,
              "#0d0887"
             ],
             [
              0.1111111111111111,
              "#46039f"
             ],
             [
              0.2222222222222222,
              "#7201a8"
             ],
             [
              0.3333333333333333,
              "#9c179e"
             ],
             [
              0.4444444444444444,
              "#bd3786"
             ],
             [
              0.5555555555555556,
              "#d8576b"
             ],
             [
              0.6666666666666666,
              "#ed7953"
             ],
             [
              0.7777777777777778,
              "#fb9f3a"
             ],
             [
              0.8888888888888888,
              "#fdca26"
             ],
             [
              1,
              "#f0f921"
             ]
            ],
            "type": "heatmapgl"
           }
          ],
          "histogram": [
           {
            "marker": {
             "pattern": {
              "fillmode": "overlay",
              "size": 10,
              "solidity": 0.2
             }
            },
            "type": "histogram"
           }
          ],
          "histogram2d": [
           {
            "colorbar": {
             "outlinewidth": 0,
             "ticks": ""
            },
            "colorscale": [
             [
              0,
              "#0d0887"
             ],
             [
              0.1111111111111111,
              "#46039f"
             ],
             [
              0.2222222222222222,
              "#7201a8"
             ],
             [
              0.3333333333333333,
              "#9c179e"
             ],
             [
              0.4444444444444444,
              "#bd3786"
             ],
             [
              0.5555555555555556,
              "#d8576b"
             ],
             [
              0.6666666666666666,
              "#ed7953"
             ],
             [
              0.7777777777777778,
              "#fb9f3a"
             ],
             [
              0.8888888888888888,
              "#fdca26"
             ],
             [
              1,
              "#f0f921"
             ]
            ],
            "type": "histogram2d"
           }
          ],
          "histogram2dcontour": [
           {
            "colorbar": {
             "outlinewidth": 0,
             "ticks": ""
            },
            "colorscale": [
             [
              0,
              "#0d0887"
             ],
             [
              0.1111111111111111,
              "#46039f"
             ],
             [
              0.2222222222222222,
              "#7201a8"
             ],
             [
              0.3333333333333333,
              "#9c179e"
             ],
             [
              0.4444444444444444,
              "#bd3786"
             ],
             [
              0.5555555555555556,
              "#d8576b"
             ],
             [
              0.6666666666666666,
              "#ed7953"
             ],
             [
              0.7777777777777778,
              "#fb9f3a"
             ],
             [
              0.8888888888888888,
              "#fdca26"
             ],
             [
              1,
              "#f0f921"
             ]
            ],
            "type": "histogram2dcontour"
           }
          ],
          "mesh3d": [
           {
            "colorbar": {
             "outlinewidth": 0,
             "ticks": ""
            },
            "type": "mesh3d"
           }
          ],
          "parcoords": [
           {
            "line": {
             "colorbar": {
              "outlinewidth": 0,
              "ticks": ""
             }
            },
            "type": "parcoords"
           }
          ],
          "pie": [
           {
            "automargin": true,
            "type": "pie"
           }
          ],
          "scatter": [
           {
            "marker": {
             "colorbar": {
              "outlinewidth": 0,
              "ticks": ""
             }
            },
            "type": "scatter"
           }
          ],
          "scatter3d": [
           {
            "line": {
             "colorbar": {
              "outlinewidth": 0,
              "ticks": ""
             }
            },
            "marker": {
             "colorbar": {
              "outlinewidth": 0,
              "ticks": ""
             }
            },
            "type": "scatter3d"
           }
          ],
          "scattercarpet": [
           {
            "marker": {
             "colorbar": {
              "outlinewidth": 0,
              "ticks": ""
             }
            },
            "type": "scattercarpet"
           }
          ],
          "scattergeo": [
           {
            "marker": {
             "colorbar": {
              "outlinewidth": 0,
              "ticks": ""
             }
            },
            "type": "scattergeo"
           }
          ],
          "scattergl": [
           {
            "marker": {
             "colorbar": {
              "outlinewidth": 0,
              "ticks": ""
             }
            },
            "type": "scattergl"
           }
          ],
          "scattermapbox": [
           {
            "marker": {
             "colorbar": {
              "outlinewidth": 0,
              "ticks": ""
             }
            },
            "type": "scattermapbox"
           }
          ],
          "scatterpolar": [
           {
            "marker": {
             "colorbar": {
              "outlinewidth": 0,
              "ticks": ""
             }
            },
            "type": "scatterpolar"
           }
          ],
          "scatterpolargl": [
           {
            "marker": {
             "colorbar": {
              "outlinewidth": 0,
              "ticks": ""
             }
            },
            "type": "scatterpolargl"
           }
          ],
          "scatterternary": [
           {
            "marker": {
             "colorbar": {
              "outlinewidth": 0,
              "ticks": ""
             }
            },
            "type": "scatterternary"
           }
          ],
          "surface": [
           {
            "colorbar": {
             "outlinewidth": 0,
             "ticks": ""
            },
            "colorscale": [
             [
              0,
              "#0d0887"
             ],
             [
              0.1111111111111111,
              "#46039f"
             ],
             [
              0.2222222222222222,
              "#7201a8"
             ],
             [
              0.3333333333333333,
              "#9c179e"
             ],
             [
              0.4444444444444444,
              "#bd3786"
             ],
             [
              0.5555555555555556,
              "#d8576b"
             ],
             [
              0.6666666666666666,
              "#ed7953"
             ],
             [
              0.7777777777777778,
              "#fb9f3a"
             ],
             [
              0.8888888888888888,
              "#fdca26"
             ],
             [
              1,
              "#f0f921"
             ]
            ],
            "type": "surface"
           }
          ],
          "table": [
           {
            "cells": {
             "fill": {
              "color": "#EBF0F8"
             },
             "line": {
              "color": "white"
             }
            },
            "header": {
             "fill": {
              "color": "#C8D4E3"
             },
             "line": {
              "color": "white"
             }
            },
            "type": "table"
           }
          ]
         },
         "layout": {
          "annotationdefaults": {
           "arrowcolor": "#2a3f5f",
           "arrowhead": 0,
           "arrowwidth": 1
          },
          "autotypenumbers": "strict",
          "coloraxis": {
           "colorbar": {
            "outlinewidth": 0,
            "ticks": ""
           }
          },
          "colorscale": {
           "diverging": [
            [
             0,
             "#8e0152"
            ],
            [
             0.1,
             "#c51b7d"
            ],
            [
             0.2,
             "#de77ae"
            ],
            [
             0.3,
             "#f1b6da"
            ],
            [
             0.4,
             "#fde0ef"
            ],
            [
             0.5,
             "#f7f7f7"
            ],
            [
             0.6,
             "#e6f5d0"
            ],
            [
             0.7,
             "#b8e186"
            ],
            [
             0.8,
             "#7fbc41"
            ],
            [
             0.9,
             "#4d9221"
            ],
            [
             1,
             "#276419"
            ]
           ],
           "sequential": [
            [
             0,
             "#0d0887"
            ],
            [
             0.1111111111111111,
             "#46039f"
            ],
            [
             0.2222222222222222,
             "#7201a8"
            ],
            [
             0.3333333333333333,
             "#9c179e"
            ],
            [
             0.4444444444444444,
             "#bd3786"
            ],
            [
             0.5555555555555556,
             "#d8576b"
            ],
            [
             0.6666666666666666,
             "#ed7953"
            ],
            [
             0.7777777777777778,
             "#fb9f3a"
            ],
            [
             0.8888888888888888,
             "#fdca26"
            ],
            [
             1,
             "#f0f921"
            ]
           ],
           "sequentialminus": [
            [
             0,
             "#0d0887"
            ],
            [
             0.1111111111111111,
             "#46039f"
            ],
            [
             0.2222222222222222,
             "#7201a8"
            ],
            [
             0.3333333333333333,
             "#9c179e"
            ],
            [
             0.4444444444444444,
             "#bd3786"
            ],
            [
             0.5555555555555556,
             "#d8576b"
            ],
            [
             0.6666666666666666,
             "#ed7953"
            ],
            [
             0.7777777777777778,
             "#fb9f3a"
            ],
            [
             0.8888888888888888,
             "#fdca26"
            ],
            [
             1,
             "#f0f921"
            ]
           ]
          },
          "colorway": [
           "#636efa",
           "#EF553B",
           "#00cc96",
           "#ab63fa",
           "#FFA15A",
           "#19d3f3",
           "#FF6692",
           "#B6E880",
           "#FF97FF",
           "#FECB52"
          ],
          "font": {
           "color": "#2a3f5f"
          },
          "geo": {
           "bgcolor": "white",
           "lakecolor": "white",
           "landcolor": "#E5ECF6",
           "showlakes": true,
           "showland": true,
           "subunitcolor": "white"
          },
          "hoverlabel": {
           "align": "left"
          },
          "hovermode": "closest",
          "mapbox": {
           "style": "light"
          },
          "paper_bgcolor": "white",
          "plot_bgcolor": "#E5ECF6",
          "polar": {
           "angularaxis": {
            "gridcolor": "white",
            "linecolor": "white",
            "ticks": ""
           },
           "bgcolor": "#E5ECF6",
           "radialaxis": {
            "gridcolor": "white",
            "linecolor": "white",
            "ticks": ""
           }
          },
          "scene": {
           "xaxis": {
            "backgroundcolor": "#E5ECF6",
            "gridcolor": "white",
            "gridwidth": 2,
            "linecolor": "white",
            "showbackground": true,
            "ticks": "",
            "zerolinecolor": "white"
           },
           "yaxis": {
            "backgroundcolor": "#E5ECF6",
            "gridcolor": "white",
            "gridwidth": 2,
            "linecolor": "white",
            "showbackground": true,
            "ticks": "",
            "zerolinecolor": "white"
           },
           "zaxis": {
            "backgroundcolor": "#E5ECF6",
            "gridcolor": "white",
            "gridwidth": 2,
            "linecolor": "white",
            "showbackground": true,
            "ticks": "",
            "zerolinecolor": "white"
           }
          },
          "shapedefaults": {
           "line": {
            "color": "#2a3f5f"
           }
          },
          "ternary": {
           "aaxis": {
            "gridcolor": "white",
            "linecolor": "white",
            "ticks": ""
           },
           "baxis": {
            "gridcolor": "white",
            "linecolor": "white",
            "ticks": ""
           },
           "bgcolor": "#E5ECF6",
           "caxis": {
            "gridcolor": "white",
            "linecolor": "white",
            "ticks": ""
           }
          },
          "title": {
           "x": 0.05
          },
          "xaxis": {
           "automargin": true,
           "gridcolor": "white",
           "linecolor": "white",
           "ticks": "",
           "title": {
            "standoff": 15
           },
           "zerolinecolor": "white",
           "zerolinewidth": 2
          },
          "yaxis": {
           "automargin": true,
           "gridcolor": "white",
           "linecolor": "white",
           "ticks": "",
           "title": {
            "standoff": 15
           },
           "zerolinecolor": "white",
           "zerolinewidth": 2
          }
         }
        },
        "title": {
         "text": "Distribution du nombre de documents par catégories dans le dataset d'entrainement déséquilibré"
        },
        "xaxis": {
         "tickangle": -25,
         "title": {
          "text": "Catégories"
         }
        },
        "yaxis": {
         "title": {
          "text": "Nombre de documents"
         }
        }
       }
      }
     },
     "metadata": {},
     "output_type": "display_data"
    }
   ],
   "source": [
    "p=utility.nb_exemple_categorie(df_train)\n",
    "plot_distribution(p,\"Distribution du nombre de documents par catégories dans le dataset d'entrainement déséquilibré\")"
   ]
  },
  {
   "cell_type": "markdown",
   "metadata": {},
   "source": [
    "## oversampling & Undersampling"
   ]
  },
  {
   "cell_type": "markdown",
   "metadata": {},
   "source": [
    "###  Undersampling"
   ]
  },
  {
   "cell_type": "code",
   "execution_count": null,
   "metadata": {},
   "outputs": [],
   "source": [
    "#Diminution des exemples des catégories qui ont plusieurs d'exemple (Under sampling)\n",
    "\n",
    "train_undersampling=equilibrer_les_donnees.Undersampling(df,13000)\n",
    "\n",
    "importEtInsert_data.Importation_dataFrame('Train_Oversampling_en')\n",
    "    "
   ]
  },
  {
   "cell_type": "code",
   "execution_count": 8,
   "metadata": {},
   "outputs": [
    {
     "name": "stdout",
     "output_type": "stream",
     "text": [
      "Train: (1045972, 54), Test: (224137, 55), Valid: (224138, 55)\n"
     ]
    }
   ],
   "source": [
    "#Création de la colonne qui sera utilisée pour l'entrainement\n",
    "\n",
    "#train_undersampling['Text'] = train_undersampling['Titre'] +\" \"+train_undersampling['Description']\n",
    "df_test['Text'] = df_test['Titre'] +\" \"+df_test['Description']\n",
    "df_valid['Text'] = df_valid['Titre'] +\" \"+df_valid['Description']\n",
    "print(f\"Train: {df_train.shape}, Test: {df_test.shape}, Valid: {df_valid.shape}\")\n"
   ]
  },
  {
   "cell_type": "code",
   "execution_count": 31,
   "metadata": {},
   "outputs": [
    {
     "name": "stdout",
     "output_type": "stream",
     "text": [
      "<class 'pandas.core.frame.DataFrame'>\n",
      "Int64Index: 224138 entries, 59075 to 1487666\n",
      "Data columns (total 55 columns):\n",
      " #   Column                                                 Non-Null Count   Dtype \n",
      "---  ------                                                 --------------   ----- \n",
      " 0   Texte                                                  224138 non-null  object\n",
      " 1   Titre                                                  224138 non-null  object\n",
      " 2   Description                                            224138 non-null  object\n",
      " 3   building_works                                         224138 non-null  int64 \n",
      " 4   studies_consulting_assistance                          224138 non-null  int64 \n",
      " 5   transport_and_related_services                         224138 non-null  int64 \n",
      " 6   financial_and_insurance_services                       224138 non-null  int64 \n",
      " 7   sewerage                                               224138 non-null  int64 \n",
      " 8   car_industry_products_and_transport_equipment          224138 non-null  int64 \n",
      " 9   real_estate_missions_and_inspections                   224138 non-null  int64 \n",
      " 10  it_services                                            224138 non-null  int64 \n",
      " 11  cleaning_and_hygiene_services                          224138 non-null  int64 \n",
      " 12  building_equipment                                     224138 non-null  int64 \n",
      " 13  medical_precision_optical_and_watchmaking_instruments  224138 non-null  int64 \n",
      " 14  research_and_development                               224138 non-null  int64 \n",
      " 15  civil_engineering                                      224138 non-null  int64 \n",
      " 16  green_spaces                                           224138 non-null  int64 \n",
      " 17  printing_and_related_services                          224138 non-null  int64 \n",
      " 18  street_development                                     224138 non-null  int64 \n",
      " 19  office_and_it_equipment                                224138 non-null  int64 \n",
      " 20  industrial_equipment_and_tools                         224138 non-null  int64 \n",
      " 21  electrical_equipment                                   224138 non-null  int64 \n",
      " 22  chemical_products                                      224138 non-null  int64 \n",
      " 23  structural_works                                       224138 non-null  int64 \n",
      " 24  recreational_cultural_and_sports_services              224138 non-null  int64 \n",
      " 25  electricity_gas_and_heat                               224138 non-null  int64 \n",
      " 26  food_beverages_and_related_products                    224138 non-null  int64 \n",
      " 27  health_and_social_work_services                        224138 non-null  int64 \n",
      " 28  education_and_training_services                        224138 non-null  int64 \n",
      " 29  radio_television_and_communication_equipment           224138 non-null  int64 \n",
      " 30  clothing_and_textile_industry                          224138 non-null  int64 \n",
      " 31  roofing                                                224138 non-null  int64 \n",
      " 32  communication_and_marketing_services                   224138 non-null  int64 \n",
      " 33  energy_and_environment                                 224138 non-null  int64 \n",
      " 34  waste_management                                       224138 non-null  int64 \n",
      " 35  ores_materials_and_construction_materials              224138 non-null  int64 \n",
      " 36  software_supply                                        224138 non-null  int64 \n",
      " 37  defence_and_security                                   224138 non-null  int64 \n",
      " 38  petroleum_products_fuels                               224138 non-null  int64 \n",
      " 39  office_furniture_and_supplies                          224138 non-null  int64 \n",
      " 40  it_equipment_and_consumables                           224138 non-null  int64 \n",
      " 41  provision_of_meals                                     224138 non-null  int64 \n",
      " 42  fire                                                   224138 non-null  int64 \n",
      " 43  postal_and_telecommunications_services                 224138 non-null  int64 \n",
      " 44  silvicultural_products                                 224138 non-null  int64 \n",
      " 45  drinking_water                                         224138 non-null  int64 \n",
      " 46  agriculture                                            224138 non-null  int64 \n",
      " 47  wholesale_and_retail                                   224138 non-null  int64 \n",
      " 48  water_related_works                                    224138 non-null  int64 \n",
      " 49  mining_and_minerals                                    224138 non-null  int64 \n",
      " 50  paper_and_cardboard                                    224138 non-null  int64 \n",
      " 51  recreational_cultural_and_sports_equipment             224138 non-null  int64 \n",
      " 52  rubber_or_plastic_products                             224138 non-null  int64 \n",
      " 53  hydraulic_equipment                                    224138 non-null  int64 \n",
      " 54  Text                                                   224138 non-null  object\n",
      "dtypes: int64(51), object(4)\n",
      "memory usage: 95.8+ MB\n"
     ]
    }
   ],
   "source": [
    "df_valid.info()"
   ]
  },
  {
   "cell_type": "markdown",
   "metadata": {},
   "source": [
    "### Oversampling "
   ]
  },
  {
   "cell_type": "code",
   "execution_count": null,
   "metadata": {},
   "outputs": [],
   "source": [
    "name_categories=p[\"Label\"][3:54]\n",
    "\n",
    "#Augmentation du nombre exemples des catégories qui ont moins d'exemple (Over sampling)\n",
    "equilibrer_les_donnees.Oversampling(train_undersampling,name_categories[38:],count=6000,collection=\"\")\n"
   ]
  },
  {
   "cell_type": "code",
   "execution_count": 166,
   "metadata": {},
   "outputs": [
    {
     "data": {
      "application/vnd.plotly.v1+json": {
       "config": {
        "plotlyServerURL": "https://plot.ly"
       },
       "data": [
        {
         "marker": {
          "color": "rgb(55, 83, 109)"
         },
         "type": "bar",
         "x": [
          "Texte",
          "Titre",
          "Description",
          "building_works",
          "studies_consulting_assistance",
          "transport_and_related_services",
          "financial_and_insurance_services",
          "sewerage",
          "car_industry_products_and_transport_equipment",
          "real_estate_missions_and_inspections",
          "it_services",
          "cleaning_and_hygiene_services",
          "building_equipment",
          "medical_precision_optical_and_watchmaking_instruments",
          "research_and_development",
          "civil_engineering",
          "green_spaces",
          "printing_and_related_services",
          "street_development",
          "office_and_it_equipment",
          "industrial_equipment_and_tools",
          "electrical_equipment",
          "chemical_products",
          "structural_works",
          "recreational_cultural_and_sports_services",
          "electricity_gas_and_heat",
          "food_beverages_and_related_products",
          "health_and_social_work_services",
          "education_and_training_services",
          "radio_television_and_communication_equipment",
          "clothing_and_textile_industry",
          "roofing",
          "communication_and_marketing_services",
          "energy_and_environment",
          "waste_management",
          "ores_materials_and_construction_materials",
          "software_supply",
          "defence_and_security",
          "petroleum_products_fuels",
          "office_furniture_and_supplies",
          "it_equipment_and_consumables",
          "provision_of_meals",
          "fire",
          "postal_and_telecommunications_services",
          "silvicultural_products",
          "drinking_water",
          "agriculture",
          "wholesale_and_retail",
          "water_related_works",
          "mining_and_minerals",
          "paper_and_cardboard",
          "recreational_cultural_and_sports_equipment",
          "rubber_or_plastic_products",
          "hydraulic_equipment"
         ],
         "y": [
          0,
          0,
          0,
          9383,
          26552,
          5368,
          1663,
          1298,
          23176,
          2716,
          8407,
          2042,
          2262,
          26789,
          3310,
          17209,
          1433,
          800,
          1572,
          3886,
          25871,
          19055,
          6188,
          3638,
          1361,
          3175,
          5953,
          3020,
          2355,
          5528,
          3120,
          943,
          2530,
          1694,
          2487,
          8380,
          2436,
          1670,
          1096,
          3866,
          6519,
          487,
          304,
          1522,
          1090,
          29,
          5679,
          2862,
          778,
          4454,
          136,
          2373,
          1341,
          56
         ]
        }
       ],
       "layout": {
        "font": {
         "color": "RebeccaPurple",
         "family": "Arial, sans-serif",
         "size": 13
        },
        "template": {
         "data": {
          "bar": [
           {
            "error_x": {
             "color": "#2a3f5f"
            },
            "error_y": {
             "color": "#2a3f5f"
            },
            "marker": {
             "line": {
              "color": "#E5ECF6",
              "width": 0.5
             },
             "pattern": {
              "fillmode": "overlay",
              "size": 10,
              "solidity": 0.2
             }
            },
            "type": "bar"
           }
          ],
          "barpolar": [
           {
            "marker": {
             "line": {
              "color": "#E5ECF6",
              "width": 0.5
             },
             "pattern": {
              "fillmode": "overlay",
              "size": 10,
              "solidity": 0.2
             }
            },
            "type": "barpolar"
           }
          ],
          "carpet": [
           {
            "aaxis": {
             "endlinecolor": "#2a3f5f",
             "gridcolor": "white",
             "linecolor": "white",
             "minorgridcolor": "white",
             "startlinecolor": "#2a3f5f"
            },
            "baxis": {
             "endlinecolor": "#2a3f5f",
             "gridcolor": "white",
             "linecolor": "white",
             "minorgridcolor": "white",
             "startlinecolor": "#2a3f5f"
            },
            "type": "carpet"
           }
          ],
          "choropleth": [
           {
            "colorbar": {
             "outlinewidth": 0,
             "ticks": ""
            },
            "type": "choropleth"
           }
          ],
          "contour": [
           {
            "colorbar": {
             "outlinewidth": 0,
             "ticks": ""
            },
            "colorscale": [
             [
              0,
              "#0d0887"
             ],
             [
              0.1111111111111111,
              "#46039f"
             ],
             [
              0.2222222222222222,
              "#7201a8"
             ],
             [
              0.3333333333333333,
              "#9c179e"
             ],
             [
              0.4444444444444444,
              "#bd3786"
             ],
             [
              0.5555555555555556,
              "#d8576b"
             ],
             [
              0.6666666666666666,
              "#ed7953"
             ],
             [
              0.7777777777777778,
              "#fb9f3a"
             ],
             [
              0.8888888888888888,
              "#fdca26"
             ],
             [
              1,
              "#f0f921"
             ]
            ],
            "type": "contour"
           }
          ],
          "contourcarpet": [
           {
            "colorbar": {
             "outlinewidth": 0,
             "ticks": ""
            },
            "type": "contourcarpet"
           }
          ],
          "heatmap": [
           {
            "colorbar": {
             "outlinewidth": 0,
             "ticks": ""
            },
            "colorscale": [
             [
              0,
              "#0d0887"
             ],
             [
              0.1111111111111111,
              "#46039f"
             ],
             [
              0.2222222222222222,
              "#7201a8"
             ],
             [
              0.3333333333333333,
              "#9c179e"
             ],
             [
              0.4444444444444444,
              "#bd3786"
             ],
             [
              0.5555555555555556,
              "#d8576b"
             ],
             [
              0.6666666666666666,
              "#ed7953"
             ],
             [
              0.7777777777777778,
              "#fb9f3a"
             ],
             [
              0.8888888888888888,
              "#fdca26"
             ],
             [
              1,
              "#f0f921"
             ]
            ],
            "type": "heatmap"
           }
          ],
          "heatmapgl": [
           {
            "colorbar": {
             "outlinewidth": 0,
             "ticks": ""
            },
            "colorscale": [
             [
              0,
              "#0d0887"
             ],
             [
              0.1111111111111111,
              "#46039f"
             ],
             [
              0.2222222222222222,
              "#7201a8"
             ],
             [
              0.3333333333333333,
              "#9c179e"
             ],
             [
              0.4444444444444444,
              "#bd3786"
             ],
             [
              0.5555555555555556,
              "#d8576b"
             ],
             [
              0.6666666666666666,
              "#ed7953"
             ],
             [
              0.7777777777777778,
              "#fb9f3a"
             ],
             [
              0.8888888888888888,
              "#fdca26"
             ],
             [
              1,
              "#f0f921"
             ]
            ],
            "type": "heatmapgl"
           }
          ],
          "histogram": [
           {
            "marker": {
             "pattern": {
              "fillmode": "overlay",
              "size": 10,
              "solidity": 0.2
             }
            },
            "type": "histogram"
           }
          ],
          "histogram2d": [
           {
            "colorbar": {
             "outlinewidth": 0,
             "ticks": ""
            },
            "colorscale": [
             [
              0,
              "#0d0887"
             ],
             [
              0.1111111111111111,
              "#46039f"
             ],
             [
              0.2222222222222222,
              "#7201a8"
             ],
             [
              0.3333333333333333,
              "#9c179e"
             ],
             [
              0.4444444444444444,
              "#bd3786"
             ],
             [
              0.5555555555555556,
              "#d8576b"
             ],
             [
              0.6666666666666666,
              "#ed7953"
             ],
             [
              0.7777777777777778,
              "#fb9f3a"
             ],
             [
              0.8888888888888888,
              "#fdca26"
             ],
             [
              1,
              "#f0f921"
             ]
            ],
            "type": "histogram2d"
           }
          ],
          "histogram2dcontour": [
           {
            "colorbar": {
             "outlinewidth": 0,
             "ticks": ""
            },
            "colorscale": [
             [
              0,
              "#0d0887"
             ],
             [
              0.1111111111111111,
              "#46039f"
             ],
             [
              0.2222222222222222,
              "#7201a8"
             ],
             [
              0.3333333333333333,
              "#9c179e"
             ],
             [
              0.4444444444444444,
              "#bd3786"
             ],
             [
              0.5555555555555556,
              "#d8576b"
             ],
             [
              0.6666666666666666,
              "#ed7953"
             ],
             [
              0.7777777777777778,
              "#fb9f3a"
             ],
             [
              0.8888888888888888,
              "#fdca26"
             ],
             [
              1,
              "#f0f921"
             ]
            ],
            "type": "histogram2dcontour"
           }
          ],
          "mesh3d": [
           {
            "colorbar": {
             "outlinewidth": 0,
             "ticks": ""
            },
            "type": "mesh3d"
           }
          ],
          "parcoords": [
           {
            "line": {
             "colorbar": {
              "outlinewidth": 0,
              "ticks": ""
             }
            },
            "type": "parcoords"
           }
          ],
          "pie": [
           {
            "automargin": true,
            "type": "pie"
           }
          ],
          "scatter": [
           {
            "marker": {
             "colorbar": {
              "outlinewidth": 0,
              "ticks": ""
             }
            },
            "type": "scatter"
           }
          ],
          "scatter3d": [
           {
            "line": {
             "colorbar": {
              "outlinewidth": 0,
              "ticks": ""
             }
            },
            "marker": {
             "colorbar": {
              "outlinewidth": 0,
              "ticks": ""
             }
            },
            "type": "scatter3d"
           }
          ],
          "scattercarpet": [
           {
            "marker": {
             "colorbar": {
              "outlinewidth": 0,
              "ticks": ""
             }
            },
            "type": "scattercarpet"
           }
          ],
          "scattergeo": [
           {
            "marker": {
             "colorbar": {
              "outlinewidth": 0,
              "ticks": ""
             }
            },
            "type": "scattergeo"
           }
          ],
          "scattergl": [
           {
            "marker": {
             "colorbar": {
              "outlinewidth": 0,
              "ticks": ""
             }
            },
            "type": "scattergl"
           }
          ],
          "scattermapbox": [
           {
            "marker": {
             "colorbar": {
              "outlinewidth": 0,
              "ticks": ""
             }
            },
            "type": "scattermapbox"
           }
          ],
          "scatterpolar": [
           {
            "marker": {
             "colorbar": {
              "outlinewidth": 0,
              "ticks": ""
             }
            },
            "type": "scatterpolar"
           }
          ],
          "scatterpolargl": [
           {
            "marker": {
             "colorbar": {
              "outlinewidth": 0,
              "ticks": ""
             }
            },
            "type": "scatterpolargl"
           }
          ],
          "scatterternary": [
           {
            "marker": {
             "colorbar": {
              "outlinewidth": 0,
              "ticks": ""
             }
            },
            "type": "scatterternary"
           }
          ],
          "surface": [
           {
            "colorbar": {
             "outlinewidth": 0,
             "ticks": ""
            },
            "colorscale": [
             [
              0,
              "#0d0887"
             ],
             [
              0.1111111111111111,
              "#46039f"
             ],
             [
              0.2222222222222222,
              "#7201a8"
             ],
             [
              0.3333333333333333,
              "#9c179e"
             ],
             [
              0.4444444444444444,
              "#bd3786"
             ],
             [
              0.5555555555555556,
              "#d8576b"
             ],
             [
              0.6666666666666666,
              "#ed7953"
             ],
             [
              0.7777777777777778,
              "#fb9f3a"
             ],
             [
              0.8888888888888888,
              "#fdca26"
             ],
             [
              1,
              "#f0f921"
             ]
            ],
            "type": "surface"
           }
          ],
          "table": [
           {
            "cells": {
             "fill": {
              "color": "#EBF0F8"
             },
             "line": {
              "color": "white"
             }
            },
            "header": {
             "fill": {
              "color": "#C8D4E3"
             },
             "line": {
              "color": "white"
             }
            },
            "type": "table"
           }
          ]
         },
         "layout": {
          "annotationdefaults": {
           "arrowcolor": "#2a3f5f",
           "arrowhead": 0,
           "arrowwidth": 1
          },
          "autotypenumbers": "strict",
          "coloraxis": {
           "colorbar": {
            "outlinewidth": 0,
            "ticks": ""
           }
          },
          "colorscale": {
           "diverging": [
            [
             0,
             "#8e0152"
            ],
            [
             0.1,
             "#c51b7d"
            ],
            [
             0.2,
             "#de77ae"
            ],
            [
             0.3,
             "#f1b6da"
            ],
            [
             0.4,
             "#fde0ef"
            ],
            [
             0.5,
             "#f7f7f7"
            ],
            [
             0.6,
             "#e6f5d0"
            ],
            [
             0.7,
             "#b8e186"
            ],
            [
             0.8,
             "#7fbc41"
            ],
            [
             0.9,
             "#4d9221"
            ],
            [
             1,
             "#276419"
            ]
           ],
           "sequential": [
            [
             0,
             "#0d0887"
            ],
            [
             0.1111111111111111,
             "#46039f"
            ],
            [
             0.2222222222222222,
             "#7201a8"
            ],
            [
             0.3333333333333333,
             "#9c179e"
            ],
            [
             0.4444444444444444,
             "#bd3786"
            ],
            [
             0.5555555555555556,
             "#d8576b"
            ],
            [
             0.6666666666666666,
             "#ed7953"
            ],
            [
             0.7777777777777778,
             "#fb9f3a"
            ],
            [
             0.8888888888888888,
             "#fdca26"
            ],
            [
             1,
             "#f0f921"
            ]
           ],
           "sequentialminus": [
            [
             0,
             "#0d0887"
            ],
            [
             0.1111111111111111,
             "#46039f"
            ],
            [
             0.2222222222222222,
             "#7201a8"
            ],
            [
             0.3333333333333333,
             "#9c179e"
            ],
            [
             0.4444444444444444,
             "#bd3786"
            ],
            [
             0.5555555555555556,
             "#d8576b"
            ],
            [
             0.6666666666666666,
             "#ed7953"
            ],
            [
             0.7777777777777778,
             "#fb9f3a"
            ],
            [
             0.8888888888888888,
             "#fdca26"
            ],
            [
             1,
             "#f0f921"
            ]
           ]
          },
          "colorway": [
           "#636efa",
           "#EF553B",
           "#00cc96",
           "#ab63fa",
           "#FFA15A",
           "#19d3f3",
           "#FF6692",
           "#B6E880",
           "#FF97FF",
           "#FECB52"
          ],
          "font": {
           "color": "#2a3f5f"
          },
          "geo": {
           "bgcolor": "white",
           "lakecolor": "white",
           "landcolor": "#E5ECF6",
           "showlakes": true,
           "showland": true,
           "subunitcolor": "white"
          },
          "hoverlabel": {
           "align": "left"
          },
          "hovermode": "closest",
          "mapbox": {
           "style": "light"
          },
          "paper_bgcolor": "white",
          "plot_bgcolor": "#E5ECF6",
          "polar": {
           "angularaxis": {
            "gridcolor": "white",
            "linecolor": "white",
            "ticks": ""
           },
           "bgcolor": "#E5ECF6",
           "radialaxis": {
            "gridcolor": "white",
            "linecolor": "white",
            "ticks": ""
           }
          },
          "scene": {
           "xaxis": {
            "backgroundcolor": "#E5ECF6",
            "gridcolor": "white",
            "gridwidth": 2,
            "linecolor": "white",
            "showbackground": true,
            "ticks": "",
            "zerolinecolor": "white"
           },
           "yaxis": {
            "backgroundcolor": "#E5ECF6",
            "gridcolor": "white",
            "gridwidth": 2,
            "linecolor": "white",
            "showbackground": true,
            "ticks": "",
            "zerolinecolor": "white"
           },
           "zaxis": {
            "backgroundcolor": "#E5ECF6",
            "gridcolor": "white",
            "gridwidth": 2,
            "linecolor": "white",
            "showbackground": true,
            "ticks": "",
            "zerolinecolor": "white"
           }
          },
          "shapedefaults": {
           "line": {
            "color": "#2a3f5f"
           }
          },
          "ternary": {
           "aaxis": {
            "gridcolor": "white",
            "linecolor": "white",
            "ticks": ""
           },
           "baxis": {
            "gridcolor": "white",
            "linecolor": "white",
            "ticks": ""
           },
           "bgcolor": "#E5ECF6",
           "caxis": {
            "gridcolor": "white",
            "linecolor": "white",
            "ticks": ""
           }
          },
          "title": {
           "x": 0.05
          },
          "xaxis": {
           "automargin": true,
           "gridcolor": "white",
           "linecolor": "white",
           "ticks": "",
           "title": {
            "standoff": 15
           },
           "zerolinecolor": "white",
           "zerolinewidth": 2
          },
          "yaxis": {
           "automargin": true,
           "gridcolor": "white",
           "linecolor": "white",
           "ticks": "",
           "title": {
            "standoff": 15
           },
           "zerolinecolor": "white",
           "zerolinewidth": 2
          }
         }
        },
        "title": {
         "text": "Distribution du nombre de documents par catégories dans le dataset d'entrainement amélioré"
        },
        "xaxis": {
         "tickangle": -25,
         "title": {
          "text": "Catégories"
         }
        },
        "yaxis": {
         "title": {
          "text": "Nombre de documents"
         }
        }
       }
      }
     },
     "metadata": {},
     "output_type": "display_data"
    }
   ],
   "source": [
    "\n",
    "p=utility.nb_exemple_categorie(df_test)\n",
    "plot_distribution(p,\"Distribution du nombre de documents par catégories dans le dataset d'entrainement amélioré\")\n"
   ]
  },
  {
   "cell_type": "code",
   "execution_count": null,
   "metadata": {},
   "outputs": [],
   "source": [
    "df_train=importEtInsert_data.Importation_dataFrame(\"Train_Oversampling_en\")\n"
   ]
  },
  {
   "cell_type": "code",
   "execution_count": 16,
   "metadata": {},
   "outputs": [
    {
     "data": {
      "text/html": [
       "<div>\n",
       "<style scoped>\n",
       "    .dataframe tbody tr th:only-of-type {\n",
       "        vertical-align: middle;\n",
       "    }\n",
       "\n",
       "    .dataframe tbody tr th {\n",
       "        vertical-align: top;\n",
       "    }\n",
       "\n",
       "    .dataframe thead th {\n",
       "        text-align: right;\n",
       "    }\n",
       "</style>\n",
       "<table border=\"1\" class=\"dataframe\">\n",
       "  <thead>\n",
       "    <tr style=\"text-align: right;\">\n",
       "      <th></th>\n",
       "      <th>Label</th>\n",
       "      <th>Nombre_de_textes</th>\n",
       "    </tr>\n",
       "  </thead>\n",
       "  <tbody>\n",
       "    <tr>\n",
       "      <th>0</th>\n",
       "      <td>Texte</td>\n",
       "      <td>0</td>\n",
       "    </tr>\n",
       "    <tr>\n",
       "      <th>1</th>\n",
       "      <td>Titre</td>\n",
       "      <td>0</td>\n",
       "    </tr>\n",
       "    <tr>\n",
       "      <th>2</th>\n",
       "      <td>Description</td>\n",
       "      <td>0</td>\n",
       "    </tr>\n",
       "    <tr>\n",
       "      <th>3</th>\n",
       "      <td>building_works</td>\n",
       "      <td>4493</td>\n",
       "    </tr>\n",
       "    <tr>\n",
       "      <th>4</th>\n",
       "      <td>studies_consulting_assistance</td>\n",
       "      <td>9777</td>\n",
       "    </tr>\n",
       "    <tr>\n",
       "      <th>5</th>\n",
       "      <td>transport_and_related_services</td>\n",
       "      <td>12453</td>\n",
       "    </tr>\n",
       "    <tr>\n",
       "      <th>6</th>\n",
       "      <td>financial_and_insurance_services</td>\n",
       "      <td>6041</td>\n",
       "    </tr>\n",
       "    <tr>\n",
       "      <th>7</th>\n",
       "      <td>sewerage</td>\n",
       "      <td>6384</td>\n",
       "    </tr>\n",
       "    <tr>\n",
       "      <th>8</th>\n",
       "      <td>car_industry_products_and_transport_equipment</td>\n",
       "      <td>12729</td>\n",
       "    </tr>\n",
       "    <tr>\n",
       "      <th>9</th>\n",
       "      <td>real_estate_missions_and_inspections</td>\n",
       "      <td>13285</td>\n",
       "    </tr>\n",
       "    <tr>\n",
       "      <th>10</th>\n",
       "      <td>it_services</td>\n",
       "      <td>12090</td>\n",
       "    </tr>\n",
       "    <tr>\n",
       "      <th>11</th>\n",
       "      <td>cleaning_and_hygiene_services</td>\n",
       "      <td>9476</td>\n",
       "    </tr>\n",
       "    <tr>\n",
       "      <th>12</th>\n",
       "      <td>building_equipment</td>\n",
       "      <td>9844</td>\n",
       "    </tr>\n",
       "    <tr>\n",
       "      <th>13</th>\n",
       "      <td>medical_precision_optical_and_watchmaking_inst...</td>\n",
       "      <td>12974</td>\n",
       "    </tr>\n",
       "    <tr>\n",
       "      <th>14</th>\n",
       "      <td>research_and_development</td>\n",
       "      <td>13047</td>\n",
       "    </tr>\n",
       "    <tr>\n",
       "      <th>15</th>\n",
       "      <td>civil_engineering</td>\n",
       "      <td>12885</td>\n",
       "    </tr>\n",
       "    <tr>\n",
       "      <th>16</th>\n",
       "      <td>green_spaces</td>\n",
       "      <td>6050</td>\n",
       "    </tr>\n",
       "    <tr>\n",
       "      <th>17</th>\n",
       "      <td>printing_and_related_services</td>\n",
       "      <td>6033</td>\n",
       "    </tr>\n",
       "    <tr>\n",
       "      <th>18</th>\n",
       "      <td>street_development</td>\n",
       "      <td>6137</td>\n",
       "    </tr>\n",
       "    <tr>\n",
       "      <th>19</th>\n",
       "      <td>office_and_it_equipment</td>\n",
       "      <td>12185</td>\n",
       "    </tr>\n",
       "    <tr>\n",
       "      <th>20</th>\n",
       "      <td>industrial_equipment_and_tools</td>\n",
       "      <td>13867</td>\n",
       "    </tr>\n",
       "    <tr>\n",
       "      <th>21</th>\n",
       "      <td>electrical_equipment</td>\n",
       "      <td>13724</td>\n",
       "    </tr>\n",
       "    <tr>\n",
       "      <th>22</th>\n",
       "      <td>chemical_products</td>\n",
       "      <td>10149</td>\n",
       "    </tr>\n",
       "    <tr>\n",
       "      <th>23</th>\n",
       "      <td>structural_works</td>\n",
       "      <td>13058</td>\n",
       "    </tr>\n",
       "    <tr>\n",
       "      <th>24</th>\n",
       "      <td>recreational_cultural_and_sports_services</td>\n",
       "      <td>6046</td>\n",
       "    </tr>\n",
       "    <tr>\n",
       "      <th>25</th>\n",
       "      <td>electricity_gas_and_heat</td>\n",
       "      <td>13216</td>\n",
       "    </tr>\n",
       "    <tr>\n",
       "      <th>26</th>\n",
       "      <td>food_beverages_and_related_products</td>\n",
       "      <td>12103</td>\n",
       "    </tr>\n",
       "    <tr>\n",
       "      <th>27</th>\n",
       "      <td>health_and_social_work_services</td>\n",
       "      <td>13015</td>\n",
       "    </tr>\n",
       "    <tr>\n",
       "      <th>28</th>\n",
       "      <td>education_and_training_services</td>\n",
       "      <td>10156</td>\n",
       "    </tr>\n",
       "    <tr>\n",
       "      <th>29</th>\n",
       "      <td>radio_television_and_communication_equipment</td>\n",
       "      <td>13045</td>\n",
       "    </tr>\n",
       "    <tr>\n",
       "      <th>30</th>\n",
       "      <td>clothing_and_textile_industry</td>\n",
       "      <td>13580</td>\n",
       "    </tr>\n",
       "    <tr>\n",
       "      <th>31</th>\n",
       "      <td>roofing</td>\n",
       "      <td>5981</td>\n",
       "    </tr>\n",
       "    <tr>\n",
       "      <th>32</th>\n",
       "      <td>communication_and_marketing_services</td>\n",
       "      <td>10730</td>\n",
       "    </tr>\n",
       "    <tr>\n",
       "      <th>33</th>\n",
       "      <td>energy_and_environment</td>\n",
       "      <td>7801</td>\n",
       "    </tr>\n",
       "    <tr>\n",
       "      <th>34</th>\n",
       "      <td>waste_management</td>\n",
       "      <td>11793</td>\n",
       "    </tr>\n",
       "    <tr>\n",
       "      <th>35</th>\n",
       "      <td>ores_materials_and_construction_materials</td>\n",
       "      <td>13499</td>\n",
       "    </tr>\n",
       "    <tr>\n",
       "      <th>36</th>\n",
       "      <td>software_supply</td>\n",
       "      <td>8613</td>\n",
       "    </tr>\n",
       "    <tr>\n",
       "      <th>37</th>\n",
       "      <td>defence_and_security</td>\n",
       "      <td>7825</td>\n",
       "    </tr>\n",
       "    <tr>\n",
       "      <th>38</th>\n",
       "      <td>petroleum_products_fuels</td>\n",
       "      <td>5584</td>\n",
       "    </tr>\n",
       "    <tr>\n",
       "      <th>39</th>\n",
       "      <td>office_furniture_and_supplies</td>\n",
       "      <td>13136</td>\n",
       "    </tr>\n",
       "    <tr>\n",
       "      <th>40</th>\n",
       "      <td>it_equipment_and_consumables</td>\n",
       "      <td>13207</td>\n",
       "    </tr>\n",
       "    <tr>\n",
       "      <th>41</th>\n",
       "      <td>provision_of_meals</td>\n",
       "      <td>5100</td>\n",
       "    </tr>\n",
       "    <tr>\n",
       "      <th>42</th>\n",
       "      <td>fire</td>\n",
       "      <td>5870</td>\n",
       "    </tr>\n",
       "    <tr>\n",
       "      <th>43</th>\n",
       "      <td>postal_and_telecommunications_services</td>\n",
       "      <td>6112</td>\n",
       "    </tr>\n",
       "    <tr>\n",
       "      <th>44</th>\n",
       "      <td>silvicultural_products</td>\n",
       "      <td>6116</td>\n",
       "    </tr>\n",
       "    <tr>\n",
       "      <th>45</th>\n",
       "      <td>drinking_water</td>\n",
       "      <td>4831</td>\n",
       "    </tr>\n",
       "    <tr>\n",
       "      <th>46</th>\n",
       "      <td>agriculture</td>\n",
       "      <td>13282</td>\n",
       "    </tr>\n",
       "    <tr>\n",
       "      <th>47</th>\n",
       "      <td>wholesale_and_retail</td>\n",
       "      <td>12821</td>\n",
       "    </tr>\n",
       "    <tr>\n",
       "      <th>48</th>\n",
       "      <td>water_related_works</td>\n",
       "      <td>5910</td>\n",
       "    </tr>\n",
       "    <tr>\n",
       "      <th>49</th>\n",
       "      <td>mining_and_minerals</td>\n",
       "      <td>10286</td>\n",
       "    </tr>\n",
       "    <tr>\n",
       "      <th>50</th>\n",
       "      <td>paper_and_cardboard</td>\n",
       "      <td>5208</td>\n",
       "    </tr>\n",
       "    <tr>\n",
       "      <th>51</th>\n",
       "      <td>recreational_cultural_and_sports_equipment</td>\n",
       "      <td>10736</td>\n",
       "    </tr>\n",
       "    <tr>\n",
       "      <th>52</th>\n",
       "      <td>rubber_or_plastic_products</td>\n",
       "      <td>6030</td>\n",
       "    </tr>\n",
       "    <tr>\n",
       "      <th>53</th>\n",
       "      <td>hydraulic_equipment</td>\n",
       "      <td>5042</td>\n",
       "    </tr>\n",
       "    <tr>\n",
       "      <th>54</th>\n",
       "      <td>Text</td>\n",
       "      <td>0</td>\n",
       "    </tr>\n",
       "  </tbody>\n",
       "</table>\n",
       "</div>"
      ],
      "text/plain": [
       "                                                Label Nombre_de_textes\n",
       "0                                               Texte                0\n",
       "1                                               Titre                0\n",
       "2                                         Description                0\n",
       "3                                      building_works             4493\n",
       "4                       studies_consulting_assistance             9777\n",
       "5                      transport_and_related_services            12453\n",
       "6                    financial_and_insurance_services             6041\n",
       "7                                            sewerage             6384\n",
       "8       car_industry_products_and_transport_equipment            12729\n",
       "9                real_estate_missions_and_inspections            13285\n",
       "10                                        it_services            12090\n",
       "11                      cleaning_and_hygiene_services             9476\n",
       "12                                 building_equipment             9844\n",
       "13  medical_precision_optical_and_watchmaking_inst...            12974\n",
       "14                           research_and_development            13047\n",
       "15                                  civil_engineering            12885\n",
       "16                                       green_spaces             6050\n",
       "17                      printing_and_related_services             6033\n",
       "18                                 street_development             6137\n",
       "19                            office_and_it_equipment            12185\n",
       "20                     industrial_equipment_and_tools            13867\n",
       "21                               electrical_equipment            13724\n",
       "22                                  chemical_products            10149\n",
       "23                                   structural_works            13058\n",
       "24          recreational_cultural_and_sports_services             6046\n",
       "25                           electricity_gas_and_heat            13216\n",
       "26                food_beverages_and_related_products            12103\n",
       "27                    health_and_social_work_services            13015\n",
       "28                    education_and_training_services            10156\n",
       "29       radio_television_and_communication_equipment            13045\n",
       "30                      clothing_and_textile_industry            13580\n",
       "31                                            roofing             5981\n",
       "32               communication_and_marketing_services            10730\n",
       "33                             energy_and_environment             7801\n",
       "34                                   waste_management            11793\n",
       "35          ores_materials_and_construction_materials            13499\n",
       "36                                    software_supply             8613\n",
       "37                               defence_and_security             7825\n",
       "38                           petroleum_products_fuels             5584\n",
       "39                      office_furniture_and_supplies            13136\n",
       "40                       it_equipment_and_consumables            13207\n",
       "41                                 provision_of_meals             5100\n",
       "42                                               fire             5870\n",
       "43             postal_and_telecommunications_services             6112\n",
       "44                             silvicultural_products             6116\n",
       "45                                     drinking_water             4831\n",
       "46                                        agriculture            13282\n",
       "47                               wholesale_and_retail            12821\n",
       "48                                water_related_works             5910\n",
       "49                                mining_and_minerals            10286\n",
       "50                                paper_and_cardboard             5208\n",
       "51         recreational_cultural_and_sports_equipment            10736\n",
       "52                         rubber_or_plastic_products             6030\n",
       "53                                hydraulic_equipment             5042\n",
       "54                                               Text                0"
      ]
     },
     "execution_count": 16,
     "metadata": {},
     "output_type": "execute_result"
    }
   ],
   "source": [
    "utility.nb_exemple_categorie(df_train)"
   ]
  },
  {
   "cell_type": "code",
   "execution_count": 18,
   "metadata": {},
   "outputs": [
    {
     "data": {
      "application/vnd.plotly.v1+json": {
       "config": {
        "plotlyServerURL": "https://plot.ly"
       },
       "data": [
        {
         "marker": {
          "color": "rgb(55, 83, 109)"
         },
         "type": "bar",
         "x": [
          "Texte",
          "Titre",
          "Description",
          "building_works",
          "studies_consulting_assistance",
          "transport_and_related_services",
          "financial_and_insurance_services",
          "sewerage",
          "car_industry_products_and_transport_equipment",
          "real_estate_missions_and_inspections",
          "it_services",
          "cleaning_and_hygiene_services",
          "building_equipment",
          "medical_precision_optical_and_watchmaking_instruments",
          "research_and_development",
          "civil_engineering",
          "green_spaces",
          "printing_and_related_services",
          "street_development",
          "office_and_it_equipment",
          "industrial_equipment_and_tools",
          "electrical_equipment",
          "chemical_products",
          "structural_works",
          "recreational_cultural_and_sports_services",
          "electricity_gas_and_heat",
          "food_beverages_and_related_products",
          "health_and_social_work_services",
          "education_and_training_services",
          "radio_television_and_communication_equipment",
          "clothing_and_textile_industry",
          "roofing",
          "communication_and_marketing_services",
          "energy_and_environment",
          "waste_management",
          "ores_materials_and_construction_materials",
          "software_supply",
          "defence_and_security",
          "petroleum_products_fuels",
          "office_furniture_and_supplies",
          "it_equipment_and_consumables",
          "provision_of_meals",
          "fire",
          "postal_and_telecommunications_services",
          "silvicultural_products",
          "drinking_water",
          "agriculture",
          "wholesale_and_retail",
          "water_related_works",
          "mining_and_minerals",
          "paper_and_cardboard",
          "recreational_cultural_and_sports_equipment",
          "rubber_or_plastic_products",
          "hydraulic_equipment",
          "Text"
         ],
         "y": [
          0,
          0,
          0,
          4493,
          9777,
          12453,
          6041,
          6384,
          12729,
          13285,
          12090,
          9476,
          9844,
          12974,
          13047,
          12885,
          6050,
          6033,
          6137,
          12185,
          13867,
          13724,
          10149,
          13058,
          6046,
          13216,
          12103,
          13015,
          10156,
          13045,
          13580,
          5981,
          10730,
          7801,
          11793,
          13499,
          8613,
          7825,
          5584,
          13136,
          13207,
          5100,
          5870,
          6112,
          6116,
          4831,
          13282,
          12821,
          5910,
          10286,
          5208,
          10736,
          6030,
          5042,
          0
         ]
        }
       ],
       "layout": {
        "font": {
         "color": "RebeccaPurple",
         "family": "Arial, sans-serif",
         "size": 13
        },
        "template": {
         "data": {
          "bar": [
           {
            "error_x": {
             "color": "#2a3f5f"
            },
            "error_y": {
             "color": "#2a3f5f"
            },
            "marker": {
             "line": {
              "color": "#E5ECF6",
              "width": 0.5
             },
             "pattern": {
              "fillmode": "overlay",
              "size": 10,
              "solidity": 0.2
             }
            },
            "type": "bar"
           }
          ],
          "barpolar": [
           {
            "marker": {
             "line": {
              "color": "#E5ECF6",
              "width": 0.5
             },
             "pattern": {
              "fillmode": "overlay",
              "size": 10,
              "solidity": 0.2
             }
            },
            "type": "barpolar"
           }
          ],
          "carpet": [
           {
            "aaxis": {
             "endlinecolor": "#2a3f5f",
             "gridcolor": "white",
             "linecolor": "white",
             "minorgridcolor": "white",
             "startlinecolor": "#2a3f5f"
            },
            "baxis": {
             "endlinecolor": "#2a3f5f",
             "gridcolor": "white",
             "linecolor": "white",
             "minorgridcolor": "white",
             "startlinecolor": "#2a3f5f"
            },
            "type": "carpet"
           }
          ],
          "choropleth": [
           {
            "colorbar": {
             "outlinewidth": 0,
             "ticks": ""
            },
            "type": "choropleth"
           }
          ],
          "contour": [
           {
            "colorbar": {
             "outlinewidth": 0,
             "ticks": ""
            },
            "colorscale": [
             [
              0,
              "#0d0887"
             ],
             [
              0.1111111111111111,
              "#46039f"
             ],
             [
              0.2222222222222222,
              "#7201a8"
             ],
             [
              0.3333333333333333,
              "#9c179e"
             ],
             [
              0.4444444444444444,
              "#bd3786"
             ],
             [
              0.5555555555555556,
              "#d8576b"
             ],
             [
              0.6666666666666666,
              "#ed7953"
             ],
             [
              0.7777777777777778,
              "#fb9f3a"
             ],
             [
              0.8888888888888888,
              "#fdca26"
             ],
             [
              1,
              "#f0f921"
             ]
            ],
            "type": "contour"
           }
          ],
          "contourcarpet": [
           {
            "colorbar": {
             "outlinewidth": 0,
             "ticks": ""
            },
            "type": "contourcarpet"
           }
          ],
          "heatmap": [
           {
            "colorbar": {
             "outlinewidth": 0,
             "ticks": ""
            },
            "colorscale": [
             [
              0,
              "#0d0887"
             ],
             [
              0.1111111111111111,
              "#46039f"
             ],
             [
              0.2222222222222222,
              "#7201a8"
             ],
             [
              0.3333333333333333,
              "#9c179e"
             ],
             [
              0.4444444444444444,
              "#bd3786"
             ],
             [
              0.5555555555555556,
              "#d8576b"
             ],
             [
              0.6666666666666666,
              "#ed7953"
             ],
             [
              0.7777777777777778,
              "#fb9f3a"
             ],
             [
              0.8888888888888888,
              "#fdca26"
             ],
             [
              1,
              "#f0f921"
             ]
            ],
            "type": "heatmap"
           }
          ],
          "heatmapgl": [
           {
            "colorbar": {
             "outlinewidth": 0,
             "ticks": ""
            },
            "colorscale": [
             [
              0,
              "#0d0887"
             ],
             [
              0.1111111111111111,
              "#46039f"
             ],
             [
              0.2222222222222222,
              "#7201a8"
             ],
             [
              0.3333333333333333,
              "#9c179e"
             ],
             [
              0.4444444444444444,
              "#bd3786"
             ],
             [
              0.5555555555555556,
              "#d8576b"
             ],
             [
              0.6666666666666666,
              "#ed7953"
             ],
             [
              0.7777777777777778,
              "#fb9f3a"
             ],
             [
              0.8888888888888888,
              "#fdca26"
             ],
             [
              1,
              "#f0f921"
             ]
            ],
            "type": "heatmapgl"
           }
          ],
          "histogram": [
           {
            "marker": {
             "pattern": {
              "fillmode": "overlay",
              "size": 10,
              "solidity": 0.2
             }
            },
            "type": "histogram"
           }
          ],
          "histogram2d": [
           {
            "colorbar": {
             "outlinewidth": 0,
             "ticks": ""
            },
            "colorscale": [
             [
              0,
              "#0d0887"
             ],
             [
              0.1111111111111111,
              "#46039f"
             ],
             [
              0.2222222222222222,
              "#7201a8"
             ],
             [
              0.3333333333333333,
              "#9c179e"
             ],
             [
              0.4444444444444444,
              "#bd3786"
             ],
             [
              0.5555555555555556,
              "#d8576b"
             ],
             [
              0.6666666666666666,
              "#ed7953"
             ],
             [
              0.7777777777777778,
              "#fb9f3a"
             ],
             [
              0.8888888888888888,
              "#fdca26"
             ],
             [
              1,
              "#f0f921"
             ]
            ],
            "type": "histogram2d"
           }
          ],
          "histogram2dcontour": [
           {
            "colorbar": {
             "outlinewidth": 0,
             "ticks": ""
            },
            "colorscale": [
             [
              0,
              "#0d0887"
             ],
             [
              0.1111111111111111,
              "#46039f"
             ],
             [
              0.2222222222222222,
              "#7201a8"
             ],
             [
              0.3333333333333333,
              "#9c179e"
             ],
             [
              0.4444444444444444,
              "#bd3786"
             ],
             [
              0.5555555555555556,
              "#d8576b"
             ],
             [
              0.6666666666666666,
              "#ed7953"
             ],
             [
              0.7777777777777778,
              "#fb9f3a"
             ],
             [
              0.8888888888888888,
              "#fdca26"
             ],
             [
              1,
              "#f0f921"
             ]
            ],
            "type": "histogram2dcontour"
           }
          ],
          "mesh3d": [
           {
            "colorbar": {
             "outlinewidth": 0,
             "ticks": ""
            },
            "type": "mesh3d"
           }
          ],
          "parcoords": [
           {
            "line": {
             "colorbar": {
              "outlinewidth": 0,
              "ticks": ""
             }
            },
            "type": "parcoords"
           }
          ],
          "pie": [
           {
            "automargin": true,
            "type": "pie"
           }
          ],
          "scatter": [
           {
            "marker": {
             "colorbar": {
              "outlinewidth": 0,
              "ticks": ""
             }
            },
            "type": "scatter"
           }
          ],
          "scatter3d": [
           {
            "line": {
             "colorbar": {
              "outlinewidth": 0,
              "ticks": ""
             }
            },
            "marker": {
             "colorbar": {
              "outlinewidth": 0,
              "ticks": ""
             }
            },
            "type": "scatter3d"
           }
          ],
          "scattercarpet": [
           {
            "marker": {
             "colorbar": {
              "outlinewidth": 0,
              "ticks": ""
             }
            },
            "type": "scattercarpet"
           }
          ],
          "scattergeo": [
           {
            "marker": {
             "colorbar": {
              "outlinewidth": 0,
              "ticks": ""
             }
            },
            "type": "scattergeo"
           }
          ],
          "scattergl": [
           {
            "marker": {
             "colorbar": {
              "outlinewidth": 0,
              "ticks": ""
             }
            },
            "type": "scattergl"
           }
          ],
          "scattermapbox": [
           {
            "marker": {
             "colorbar": {
              "outlinewidth": 0,
              "ticks": ""
             }
            },
            "type": "scattermapbox"
           }
          ],
          "scatterpolar": [
           {
            "marker": {
             "colorbar": {
              "outlinewidth": 0,
              "ticks": ""
             }
            },
            "type": "scatterpolar"
           }
          ],
          "scatterpolargl": [
           {
            "marker": {
             "colorbar": {
              "outlinewidth": 0,
              "ticks": ""
             }
            },
            "type": "scatterpolargl"
           }
          ],
          "scatterternary": [
           {
            "marker": {
             "colorbar": {
              "outlinewidth": 0,
              "ticks": ""
             }
            },
            "type": "scatterternary"
           }
          ],
          "surface": [
           {
            "colorbar": {
             "outlinewidth": 0,
             "ticks": ""
            },
            "colorscale": [
             [
              0,
              "#0d0887"
             ],
             [
              0.1111111111111111,
              "#46039f"
             ],
             [
              0.2222222222222222,
              "#7201a8"
             ],
             [
              0.3333333333333333,
              "#9c179e"
             ],
             [
              0.4444444444444444,
              "#bd3786"
             ],
             [
              0.5555555555555556,
              "#d8576b"
             ],
             [
              0.6666666666666666,
              "#ed7953"
             ],
             [
              0.7777777777777778,
              "#fb9f3a"
             ],
             [
              0.8888888888888888,
              "#fdca26"
             ],
             [
              1,
              "#f0f921"
             ]
            ],
            "type": "surface"
           }
          ],
          "table": [
           {
            "cells": {
             "fill": {
              "color": "#EBF0F8"
             },
             "line": {
              "color": "white"
             }
            },
            "header": {
             "fill": {
              "color": "#C8D4E3"
             },
             "line": {
              "color": "white"
             }
            },
            "type": "table"
           }
          ]
         },
         "layout": {
          "annotationdefaults": {
           "arrowcolor": "#2a3f5f",
           "arrowhead": 0,
           "arrowwidth": 1
          },
          "autotypenumbers": "strict",
          "coloraxis": {
           "colorbar": {
            "outlinewidth": 0,
            "ticks": ""
           }
          },
          "colorscale": {
           "diverging": [
            [
             0,
             "#8e0152"
            ],
            [
             0.1,
             "#c51b7d"
            ],
            [
             0.2,
             "#de77ae"
            ],
            [
             0.3,
             "#f1b6da"
            ],
            [
             0.4,
             "#fde0ef"
            ],
            [
             0.5,
             "#f7f7f7"
            ],
            [
             0.6,
             "#e6f5d0"
            ],
            [
             0.7,
             "#b8e186"
            ],
            [
             0.8,
             "#7fbc41"
            ],
            [
             0.9,
             "#4d9221"
            ],
            [
             1,
             "#276419"
            ]
           ],
           "sequential": [
            [
             0,
             "#0d0887"
            ],
            [
             0.1111111111111111,
             "#46039f"
            ],
            [
             0.2222222222222222,
             "#7201a8"
            ],
            [
             0.3333333333333333,
             "#9c179e"
            ],
            [
             0.4444444444444444,
             "#bd3786"
            ],
            [
             0.5555555555555556,
             "#d8576b"
            ],
            [
             0.6666666666666666,
             "#ed7953"
            ],
            [
             0.7777777777777778,
             "#fb9f3a"
            ],
            [
             0.8888888888888888,
             "#fdca26"
            ],
            [
             1,
             "#f0f921"
            ]
           ],
           "sequentialminus": [
            [
             0,
             "#0d0887"
            ],
            [
             0.1111111111111111,
             "#46039f"
            ],
            [
             0.2222222222222222,
             "#7201a8"
            ],
            [
             0.3333333333333333,
             "#9c179e"
            ],
            [
             0.4444444444444444,
             "#bd3786"
            ],
            [
             0.5555555555555556,
             "#d8576b"
            ],
            [
             0.6666666666666666,
             "#ed7953"
            ],
            [
             0.7777777777777778,
             "#fb9f3a"
            ],
            [
             0.8888888888888888,
             "#fdca26"
            ],
            [
             1,
             "#f0f921"
            ]
           ]
          },
          "colorway": [
           "#636efa",
           "#EF553B",
           "#00cc96",
           "#ab63fa",
           "#FFA15A",
           "#19d3f3",
           "#FF6692",
           "#B6E880",
           "#FF97FF",
           "#FECB52"
          ],
          "font": {
           "color": "#2a3f5f"
          },
          "geo": {
           "bgcolor": "white",
           "lakecolor": "white",
           "landcolor": "#E5ECF6",
           "showlakes": true,
           "showland": true,
           "subunitcolor": "white"
          },
          "hoverlabel": {
           "align": "left"
          },
          "hovermode": "closest",
          "mapbox": {
           "style": "light"
          },
          "paper_bgcolor": "white",
          "plot_bgcolor": "#E5ECF6",
          "polar": {
           "angularaxis": {
            "gridcolor": "white",
            "linecolor": "white",
            "ticks": ""
           },
           "bgcolor": "#E5ECF6",
           "radialaxis": {
            "gridcolor": "white",
            "linecolor": "white",
            "ticks": ""
           }
          },
          "scene": {
           "xaxis": {
            "backgroundcolor": "#E5ECF6",
            "gridcolor": "white",
            "gridwidth": 2,
            "linecolor": "white",
            "showbackground": true,
            "ticks": "",
            "zerolinecolor": "white"
           },
           "yaxis": {
            "backgroundcolor": "#E5ECF6",
            "gridcolor": "white",
            "gridwidth": 2,
            "linecolor": "white",
            "showbackground": true,
            "ticks": "",
            "zerolinecolor": "white"
           },
           "zaxis": {
            "backgroundcolor": "#E5ECF6",
            "gridcolor": "white",
            "gridwidth": 2,
            "linecolor": "white",
            "showbackground": true,
            "ticks": "",
            "zerolinecolor": "white"
           }
          },
          "shapedefaults": {
           "line": {
            "color": "#2a3f5f"
           }
          },
          "ternary": {
           "aaxis": {
            "gridcolor": "white",
            "linecolor": "white",
            "ticks": ""
           },
           "baxis": {
            "gridcolor": "white",
            "linecolor": "white",
            "ticks": ""
           },
           "bgcolor": "#E5ECF6",
           "caxis": {
            "gridcolor": "white",
            "linecolor": "white",
            "ticks": ""
           }
          },
          "title": {
           "x": 0.05
          },
          "xaxis": {
           "automargin": true,
           "gridcolor": "white",
           "linecolor": "white",
           "ticks": "",
           "title": {
            "standoff": 15
           },
           "zerolinecolor": "white",
           "zerolinewidth": 2
          },
          "yaxis": {
           "automargin": true,
           "gridcolor": "white",
           "linecolor": "white",
           "ticks": "",
           "title": {
            "standoff": 15
           },
           "zerolinecolor": "white",
           "zerolinewidth": 2
          }
         }
        },
        "title": {
         "text": "Distribution du nombre de documents par catégories dans le dataset d'entrainement amélioré"
        },
        "xaxis": {
         "tickangle": -25,
         "title": {
          "text": "Catégories"
         }
        },
        "yaxis": {
         "title": {
          "text": "Nombre de documents"
         }
        }
       }
      }
     },
     "metadata": {},
     "output_type": "display_data"
    }
   ],
   "source": [
    "p=utility.nb_exemple_categorie(df_train)\n",
    "plot_distribution(p,\"Distribution du nombre de documents par catégories dans le dataset d'entrainement amélioré\")"
   ]
  },
  {
   "cell_type": "markdown",
   "metadata": {},
   "source": [
    "# Entrainement "
   ]
  },
  {
   "cell_type": "code",
   "execution_count": 1,
   "metadata": {},
   "outputs": [],
   "source": [
    "import entrainementDuModeleBert,evaluation_modele"
   ]
  },
  {
   "cell_type": "code",
   "execution_count": 2,
   "metadata": {},
   "outputs": [
    {
     "name": "stdout",
     "output_type": "stream",
     "text": [
      "\n",
      " ################################# Importation des données ##################################### \n",
      "\n",
      "Train: (434779, 55), Valid: (216876, 55)\n",
      "\n",
      " ################################### Entrainement du modèle ############################## \n",
      "\n",
      "Epoch 1/5\n"
     ]
    },
    {
     "name": "stderr",
     "output_type": "stream",
     "text": [
      "Loss: 0.0080, Accuracy: 0.9913: 100%|\u001b[34m██████████\u001b[0m| 13587/13587 [2:49:45<00:00,  1.33it/s] \n",
      "100%|\u001b[34m██████████\u001b[0m| 6778/6778 [37:54<00:00,  2.98it/s]\n"
     ]
    },
    {
     "name": "stdout",
     "output_type": "stream",
     "text": [
      "\n",
      "Temps d'exécution: 207.6740184903145 min\n",
      "\n",
      "train_loss=0.0389, val_loss=0.0153 train_acc=0.9913, val_acc=0.9959\n",
      "Epoch 2/5\n"
     ]
    },
    {
     "name": "stderr",
     "output_type": "stream",
     "text": [
      "Loss: 0.0063, Accuracy: 0.9976: 100%|\u001b[34m██████████\u001b[0m| 13587/13587 [2:51:04<00:00,  1.32it/s] \n",
      "100%|\u001b[34m██████████\u001b[0m| 6778/6778 [38:32<00:00,  2.93it/s]\n"
     ]
    },
    {
     "name": "stdout",
     "output_type": "stream",
     "text": [
      "\n",
      "Temps d'exécution: 209.62512625853222 min\n",
      "\n",
      "train_loss=0.0087, val_loss=0.0126 train_acc=0.9976, val_acc=0.9966\n",
      "Epoch 3/5\n"
     ]
    },
    {
     "name": "stderr",
     "output_type": "stream",
     "text": [
      "Loss: 0.0134, Accuracy: 0.9983: 100%|\u001b[34m██████████\u001b[0m| 13587/13587 [2:48:17<00:00,  1.35it/s] \n",
      "100%|\u001b[34m██████████\u001b[0m| 6778/6778 [37:58<00:00,  2.98it/s]\n"
     ]
    },
    {
     "name": "stdout",
     "output_type": "stream",
     "text": [
      "\n",
      "Temps d'exécution: 206.26461754242578 min\n",
      "\n",
      "train_loss=0.0061, val_loss=0.0113 train_acc=0.9983, val_acc=0.9970\n",
      "Epoch 4/5\n"
     ]
    },
    {
     "name": "stderr",
     "output_type": "stream",
     "text": [
      "Loss: 0.0067, Accuracy: 0.9987: 100%|\u001b[34m██████████\u001b[0m| 13587/13587 [2:48:09<00:00,  1.35it/s] \n",
      "100%|\u001b[34m██████████\u001b[0m| 6778/6778 [38:02<00:00,  2.97it/s]\n"
     ]
    },
    {
     "name": "stdout",
     "output_type": "stream",
     "text": [
      "\n",
      "Temps d'exécution: 206.1990204970042 min\n",
      "\n",
      "train_loss=0.0047, val_loss=0.0106 train_acc=0.9987, val_acc=0.9971\n",
      "Epoch 5/5\n"
     ]
    },
    {
     "name": "stderr",
     "output_type": "stream",
     "text": [
      "Loss: 0.0043, Accuracy: 0.9989: 100%|\u001b[34m██████████\u001b[0m| 13587/13587 [2:48:08<00:00,  1.35it/s] \n",
      "100%|\u001b[34m██████████\u001b[0m| 6778/6778 [38:00<00:00,  2.97it/s]\n"
     ]
    },
    {
     "name": "stdout",
     "output_type": "stream",
     "text": [
      "\n",
      "Temps d'exécution: 206.14211399555205 min\n",
      "\n",
      "train_loss=0.0037, val_loss=0.0110 train_acc=0.9989, val_acc=0.9971\n"
     ]
    }
   ],
   "source": [
    "entrainementDuModeleBert.main()"
   ]
  },
  {
   "cell_type": "markdown",
   "metadata": {},
   "source": [
    "# Evaluation"
   ]
  },
  {
   "cell_type": "code",
   "execution_count": 3,
   "metadata": {},
   "outputs": [
    {
     "name": "stdout",
     "output_type": "stream",
     "text": [
      "\n",
      " ################################# Importation des données ##################################### \n",
      "\n"
     ]
    },
    {
     "name": "stderr",
     "output_type": "stream",
     "text": [
      "100%|\u001b[34m██████████\u001b[0m| 6781/6781 [39:28<00:00,  2.86it/s]\n"
     ]
    },
    {
     "data": {
      "image/png": "[encoded data removed]",
      "text/plain": [
       "<Figure size 1440x1296 with 1 Axes>"
      ]
     },
     "metadata": {
      "needs_background": "light"
     },
     "output_type": "display_data"
    },
    {
     "name": "stderr",
     "output_type": "stream",
     "text": [
      "/home/mariam/.local/lib/python3.10/site-packages/sklearn/metrics/_classification.py:1497: UndefinedMetricWarning: Precision is ill-defined and being set to 0.0 in samples with no predicted labels. Use `zero_division` parameter to control this behavior.\n",
      "  _warn_prf(average, modifier, f\"{metric.capitalize()} is\", len(result))\n"
     ]
    },
    {
     "name": "stdout",
     "output_type": "stream",
     "text": [
      "                                                       precision    recall  f1-score   support\n",
      "\n",
      "                                       building_works       0.82      0.58      0.68      2305\n",
      "                        studies_consulting_assistance       0.98      0.86      0.92     26553\n",
      "                       transport_and_related_services       0.97      0.93      0.95      5486\n",
      "                     financial_and_insurance_services       0.91      0.81      0.86      1570\n",
      "                                             sewerage       0.86      0.80      0.83      1296\n",
      "        car_industry_products_and_transport_equipment       0.99      0.93      0.96     22861\n",
      "                 real_estate_missions_and_inspections       0.93      0.96      0.95      2742\n",
      "                                          it_services       0.97      0.88      0.92      8193\n",
      "                        cleaning_and_hygiene_services       0.95      0.96      0.95      2015\n",
      "                                   building_equipment       0.97      0.91      0.94      2261\n",
      "medical_precision_optical_and_watchmaking_instruments       0.99      0.92      0.95     26758\n",
      "                             research_and_development       0.97      0.91      0.94      3316\n",
      "                                    civil_engineering       0.97      0.90      0.93     17279\n",
      "                                         green_spaces       0.98      0.95      0.97      1432\n",
      "                        printing_and_related_services       0.92      0.83      0.88       846\n",
      "                                   street_development       0.98      0.98      0.98      1599\n",
      "                              office_and_it_equipment       0.90      0.90      0.90      3902\n",
      "                       industrial_equipment_and_tools       0.99      0.95      0.97     25748\n",
      "                                 electrical_equipment       0.98      0.90      0.94     18894\n",
      "                                    chemical_products       0.94      0.94      0.94      6249\n",
      "                                     structural_works       0.98      0.99      0.98      3783\n",
      "            recreational_cultural_and_sports_services       0.92      0.90      0.91      1399\n",
      "                             electricity_gas_and_heat       0.96      0.97      0.96      3223\n",
      "                  food_beverages_and_related_products       0.97      0.97      0.97      5907\n",
      "                      health_and_social_work_services       0.96      0.94      0.95      2954\n",
      "                      education_and_training_services       0.92      0.94      0.93      2389\n",
      "         radio_television_and_communication_equipment       0.97      0.86      0.91      5457\n",
      "                        clothing_and_textile_industry       0.91      0.93      0.92      3239\n",
      "                                              roofing       0.85      0.91      0.88       887\n",
      "                 communication_and_marketing_services       0.95      0.93      0.94      2576\n",
      "                               energy_and_environment       0.84      0.85      0.85      1703\n",
      "                                     waste_management       0.91      0.89      0.90      2525\n",
      "            ores_materials_and_construction_materials       0.95      0.93      0.94      8530\n",
      "                                      software_supply       0.90      0.77      0.83      2495\n",
      "                                 defence_and_security       0.95      0.85      0.90      1669\n",
      "                             petroleum_products_fuels       0.96      0.92      0.94      1096\n",
      "                        office_furniture_and_supplies       0.91      0.94      0.92      3845\n",
      "                         it_equipment_and_consumables       0.99      0.93      0.96      6734\n",
      "                                   provision_of_meals       0.97      0.98      0.98       527\n",
      "                                                 fire       0.60      0.77      0.67       323\n",
      "               postal_and_telecommunications_services       0.78      0.86      0.81      1513\n",
      "                               silvicultural_products       0.97      0.85      0.91      1057\n",
      "                                       drinking_water       0.62      0.94      0.74        34\n",
      "                                          agriculture       0.95      0.94      0.94      5762\n",
      "                                 wholesale_and_retail       0.99      0.97      0.98      2652\n",
      "                                  water_related_works       0.68      0.86      0.76       751\n",
      "                                  mining_and_minerals       0.92      0.92      0.92      4425\n",
      "                                  paper_and_cardboard       0.86      0.97      0.91       116\n",
      "           recreational_cultural_and_sports_equipment       0.92      0.93      0.93      2406\n",
      "                           rubber_or_plastic_products       0.98      0.94      0.96      1309\n",
      "                                  hydraulic_equipment       0.52      1.00      0.68        15\n",
      "\n",
      "                                            micro avg       0.96      0.91      0.94    262606\n",
      "                                            macro avg       0.91      0.91      0.90    262606\n",
      "                                         weighted avg       0.96      0.91      0.94    262606\n",
      "                                          samples avg       0.96      0.95      0.95    262606\n",
      "\n"
     ]
    }
   ],
   "source": [
    "evaluation_modele.main()"
   ]
  },
  {
   "cell_type": "markdown",
   "metadata": {},
   "source": [
    "# Prédiction"
   ]
  },
  {
   "cell_type": "code",
   "execution_count": 5,
   "metadata": {},
   "outputs": [
    {
     "name": "stdout",
     "output_type": "stream",
     "text": [
      "Texte      :  Toner Cartridges and Related Services\n",
      "Prediction :  ['office_and_it_equipment', 'office_furniture_and_supplies']\n"
     ]
    }
   ],
   "source": [
    "import  predictionModel\n",
    "\n",
    "predictionModel.main()"
   ]
  }
 ],
 "metadata": {
  "kernelspec": {
   "display_name": "Python 3",
   "language": "python",
   "name": "python3"
  },
  "language_info": {
   "codemirror_mode": {
    "name": "ipython",
    "version": 3
   },
   "file_extension": ".py",
   "mimetype": "text/x-python",
   "name": "python",
   "nbconvert_exporter": "python",
   "pygments_lexer": "ipython3",
   "version": "3.10.12"
  }
 },
 "nbformat": 4,
 "nbformat_minor": 2
}
